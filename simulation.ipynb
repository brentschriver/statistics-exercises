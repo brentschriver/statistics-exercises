{
 "cells": [
  {
   "cell_type": "markdown",
   "id": "022d18d8",
   "metadata": {},
   "source": []
  },
  {
   "cell_type": "code",
   "execution_count": 4,
   "id": "4a21848c",
   "metadata": {},
   "outputs": [],
   "source": [
    "import numpy as np\n",
    "import pandas as pd\n",
    "import viz"
   ]
  },
  {
   "cell_type": "code",
   "execution_count": 52,
   "id": "2b35498f",
   "metadata": {},
   "outputs": [],
   "source": [
    "np.random.seed(29)"
   ]
  },
  {
   "cell_type": "code",
   "execution_count": 6,
   "id": "2550ce4c",
   "metadata": {},
   "outputs": [],
   "source": [
    "n_trials = nrows = 10000\n",
    "n_dice = ncols = 3\n",
    "\n",
    "rolls = np.random.choice([1,2,3,4,5,6], nrows * ncols).reshape(nrows, ncols)"
   ]
  },
  {
   "cell_type": "code",
   "execution_count": 7,
   "id": "b5488c9c",
   "metadata": {},
   "outputs": [
    {
     "data": {
      "text/plain": [
       "array([[6, 4, 5],\n",
       "       [6, 3, 1],\n",
       "       [1, 2, 2],\n",
       "       ...,\n",
       "       [6, 2, 1],\n",
       "       [3, 4, 3],\n",
       "       [4, 2, 4]])"
      ]
     },
     "execution_count": 7,
     "metadata": {},
     "output_type": "execute_result"
    }
   ],
   "source": [
    "rolls"
   ]
  },
  {
   "cell_type": "code",
   "execution_count": 12,
   "id": "b855f9d0",
   "metadata": {},
   "outputs": [],
   "source": [
    "sums_by_trial = rolls.sum(axis=1)"
   ]
  },
  {
   "cell_type": "code",
   "execution_count": 13,
   "id": "6fc8b34a",
   "metadata": {},
   "outputs": [
    {
     "data": {
      "text/plain": [
       "array([15, 10,  5, ...,  9, 10, 10])"
      ]
     },
     "execution_count": 13,
     "metadata": {},
     "output_type": "execute_result"
    }
   ],
   "source": [
    "sums_by_trial"
   ]
  },
  {
   "cell_type": "code",
   "execution_count": 14,
   "id": "28a867e9",
   "metadata": {},
   "outputs": [
    {
     "data": {
      "image/png": "[encoded data removed]",
      "text/plain": [
       "<Figure size 648x432 with 1 Axes>"
      ]
     },
     "metadata": {
      "needs_background": "light"
     },
     "output_type": "display_data"
    }
   ],
   "source": [
    "viz.simulation_example1(sums_by_trial)"
   ]
  },
  {
   "cell_type": "code",
   "execution_count": 26,
   "id": "c691bb55",
   "metadata": {},
   "outputs": [],
   "source": [
    "wins = sums_by_trial > 12"
   ]
  },
  {
   "cell_type": "code",
   "execution_count": 16,
   "id": "436c1250",
   "metadata": {},
   "outputs": [
    {
     "data": {
      "text/plain": [
       "array([ True, False, False, ..., False, False, False])"
      ]
     },
     "execution_count": 16,
     "metadata": {},
     "output_type": "execute_result"
    }
   ],
   "source": [
    "wins"
   ]
  },
  {
   "cell_type": "code",
   "execution_count": 27,
   "id": "00c45428",
   "metadata": {},
   "outputs": [],
   "source": [
    "win_rate = wins.astype(int).mean()"
   ]
  },
  {
   "cell_type": "code",
   "execution_count": 28,
   "id": "97617c5b",
   "metadata": {},
   "outputs": [
    {
     "data": {
      "text/plain": [
       "0.2633"
      ]
     },
     "execution_count": 28,
     "metadata": {},
     "output_type": "execute_result"
    }
   ],
   "source": [
    "win_rate"
   ]
  },
  {
   "cell_type": "code",
   "execution_count": 21,
   "id": "a000ecd0",
   "metadata": {},
   "outputs": [
    {
     "data": {
      "text/plain": [
       "-1.0505000000000004"
      ]
     },
     "execution_count": 21,
     "metadata": {},
     "output_type": "execute_result"
    }
   ],
   "source": [
    "expected_earnings = win_rate * 15\n",
    "cost = 5\n",
    "expected_profit = expected_earnings - cost\n",
    "expected_profit"
   ]
  },
  {
   "cell_type": "code",
   "execution_count": 31,
   "id": "596a5a85",
   "metadata": {},
   "outputs": [],
   "source": [
    "wins = sums_by_trial >= 12"
   ]
  },
  {
   "cell_type": "code",
   "execution_count": 32,
   "id": "92022cae",
   "metadata": {},
   "outputs": [],
   "source": [
    "win_rate = wins.astype(int).mean()"
   ]
  },
  {
   "cell_type": "code",
   "execution_count": 34,
   "id": "9cc77d6e",
   "metadata": {},
   "outputs": [
    {
     "data": {
      "text/plain": [
       "0.3724"
      ]
     },
     "execution_count": 34,
     "metadata": {},
     "output_type": "execute_result"
    }
   ],
   "source": [
    "win_rate"
   ]
  },
  {
   "cell_type": "code",
   "execution_count": 36,
   "id": "087002cd",
   "metadata": {},
   "outputs": [
    {
     "data": {
      "text/plain": [
       "0.5860000000000003"
      ]
     },
     "execution_count": 36,
     "metadata": {},
     "output_type": "execute_result"
    }
   ],
   "source": [
    "expected_earnings = win_rate * 15\n",
    "expected_profit = expected_earnings - cost\n",
    "expected_profit"
   ]
  },
  {
   "cell_type": "markdown",
   "id": "418667fe",
   "metadata": {},
   "source": [
    "There's a 30% chance my son takes a nap on any given weekend day. What is the chance that he takes a nap at least one day this weekend? What is the probability that he doesn't nap at all?"
   ]
  },
  {
   "cell_type": "code",
   "execution_count": 83,
   "id": "a055f87e",
   "metadata": {},
   "outputs": [],
   "source": [
    "p_nap = .3\n",
    "num_days = num_cols = 2\n",
    "n_simulated_weekends = num_rows = 10 ** 4"
   ]
  },
  {
   "cell_type": "code",
   "execution_count": 84,
   "id": "f3b56528",
   "metadata": {},
   "outputs": [],
   "source": [
    "data = np.random.random((num_rows, num_cols))"
   ]
  },
  {
   "cell_type": "code",
   "execution_count": 85,
   "id": "0adc5958",
   "metadata": {},
   "outputs": [
    {
     "data": {
      "text/plain": [
       "array([[0.23095302, 0.19903031],\n",
       "       [0.16601164, 0.2465589 ],\n",
       "       [0.11247362, 0.53455145],\n",
       "       ...,\n",
       "       [0.53122465, 0.40786725],\n",
       "       [0.39056082, 0.80486245],\n",
       "       [0.71228542, 0.73174217]])"
      ]
     },
     "execution_count": 85,
     "metadata": {},
     "output_type": "execute_result"
    }
   ],
   "source": [
    "data"
   ]
  },
  {
   "cell_type": "code",
   "execution_count": 86,
   "id": "c7a926a2",
   "metadata": {},
   "outputs": [],
   "source": [
    "naps = data < p_nap"
   ]
  },
  {
   "cell_type": "code",
   "execution_count": 87,
   "id": "5a7b7145",
   "metadata": {},
   "outputs": [
    {
     "data": {
      "text/plain": [
       "array([[ True,  True],\n",
       "       [ True,  True],\n",
       "       [ True, False],\n",
       "       ...,\n",
       "       [False, False],\n",
       "       [False, False],\n",
       "       [False, False]])"
      ]
     },
     "execution_count": 87,
     "metadata": {},
     "output_type": "execute_result"
    }
   ],
   "source": [
    "naps"
   ]
  },
  {
   "cell_type": "code",
   "execution_count": 88,
   "id": "35b307dc",
   "metadata": {},
   "outputs": [
    {
     "data": {
      "text/plain": [
       "array([2, 2, 1, ..., 0, 0, 0])"
      ]
     },
     "execution_count": 88,
     "metadata": {},
     "output_type": "execute_result"
    }
   ],
   "source": [
    "naps.sum(axis=1)"
   ]
  },
  {
   "cell_type": "code",
   "execution_count": 89,
   "id": "41e4e9ee",
   "metadata": {},
   "outputs": [
    {
     "data": {
      "image/png": "[encoded data removed]",
      "text/plain": [
       "<Figure size 648x432 with 1 Axes>"
      ]
     },
     "metadata": {
      "needs_background": "light"
     },
     "output_type": "display_data"
    }
   ],
   "source": [
    "viz.simulation_example2(naps)"
   ]
  },
  {
   "cell_type": "code",
   "execution_count": 104,
   "id": "e3cdeaab",
   "metadata": {},
   "outputs": [
    {
     "data": {
      "text/plain": [
       "0.5139"
      ]
     },
     "execution_count": 104,
     "metadata": {},
     "output_type": "execute_result"
    }
   ],
   "source": [
    "(naps.sum(axis=1) >= 1).mean()"
   ]
  },
  {
   "cell_type": "code",
   "execution_count": 91,
   "id": "b0c16911",
   "metadata": {},
   "outputs": [
    {
     "data": {
      "text/plain": [
       "0.4861"
      ]
     },
     "execution_count": 91,
     "metadata": {},
     "output_type": "execute_result"
    }
   ],
   "source": [
    "(naps.sum(axis=1) == 0).mean()"
   ]
  },
  {
   "cell_type": "markdown",
   "id": "dfbc3310",
   "metadata": {},
   "source": [
    "What is the probability of getting at least one 3 in 3 dice rolls?"
   ]
  },
  {
   "cell_type": "code",
   "execution_count": 94,
   "id": "38108a8b",
   "metadata": {},
   "outputs": [
    {
     "data": {
      "text/plain": [
       "array([[1, 2, 4],\n",
       "       [2, 6, 3],\n",
       "       [3, 5, 6],\n",
       "       ...,\n",
       "       [3, 1, 4],\n",
       "       [2, 3, 2],\n",
       "       [1, 1, 1]])"
      ]
     },
     "execution_count": 94,
     "metadata": {},
     "output_type": "execute_result"
    }
   ],
   "source": [
    "n_simulations = nrows = 10**5\n",
    "n_dice_rolled = ncols = 3\n",
    "rolls = np.random.choice([1,2,3,4,5,6], nrows * ncols).reshape(nrows,ncols)\n",
    "\n",
    "(pd.DataFrame(rolls).apply(lambda row: 3 in row.values, axis=1).mean())\n",
    "rolls"
   ]
  },
  {
   "cell_type": "markdown",
   "id": "c6f238b2",
   "metadata": {},
   "source": [
    "#### 1. How likely is it that you roll doubles when rolling two dice?"
   ]
  },
  {
   "cell_type": "code",
   "execution_count": 96,
   "id": "ba374a4a",
   "metadata": {},
   "outputs": [
    {
     "data": {
      "text/plain": [
       "0.1645"
      ]
     },
     "execution_count": 96,
     "metadata": {},
     "output_type": "execute_result"
    }
   ],
   "source": [
    "n_simulations = nrows = 10**5\n",
    "n_dice_rolled = ncols = 2\n",
    "rolls = np.random.choice([1,2,3,4,5,6], nrows * ncols).reshape(nrows,ncols)\n",
    "\n",
    "(pd.DataFrame(rolls).apply(lambda row: row[0]==row[1], axis=1).mean())"
   ]
  },
  {
   "cell_type": "markdown",
   "id": "bab8ef62",
   "metadata": {},
   "source": [
    "#### 2. If you flip 8 coins, what is the probability of getting exactly 3 heads? What is the probability of getting more than 3 heads?"
   ]
  },
  {
   "cell_type": "code",
   "execution_count": 119,
   "id": "0f8fa460",
   "metadata": {},
   "outputs": [
    {
     "data": {
      "text/plain": [
       "0.21737"
      ]
     },
     "execution_count": 119,
     "metadata": {},
     "output_type": "execute_result"
    }
   ],
   "source": [
    "n_simulations = nrows = 10**5\n",
    "n_coin_fips = ncols = 8\n",
    "flips = np.random.choice([0,1], nrows * ncols).reshape(nrows,ncols)\n",
    "(pd.DataFrame(flips).apply(lambda row: row.sum() == 3, axis=1).mean())"
   ]
  },
  {
   "cell_type": "code",
   "execution_count": 120,
   "id": "6b6c5b1e",
   "metadata": {},
   "outputs": [
    {
     "data": {
      "text/plain": [
       "0.63688"
      ]
     },
     "execution_count": 120,
     "metadata": {},
     "output_type": "execute_result"
    }
   ],
   "source": [
    "(pd.DataFrame(flips).apply(lambda row: row.sum() > 3, axis=1).mean())"
   ]
  },
  {
   "cell_type": "markdown",
   "id": "ca43ff50",
   "metadata": {},
   "source": [
    "#### 3. There are approximitely 3 web development cohorts for every 1 data science cohort at Codeup. Assuming that Codeup randomly selects an alumni to put on a billboard, what are the odds that the two billboards I drive past both have data science students on them?"
   ]
  },
  {
   "cell_type": "code",
   "execution_count": 105,
   "id": "8e2042e8",
   "metadata": {},
   "outputs": [
    {
     "data": {
      "text/plain": [
       "array([[0.59316591, 0.48699068],\n",
       "       [0.94077835, 0.85319875],\n",
       "       [0.35212891, 0.68204662],\n",
       "       ...,\n",
       "       [0.74987148, 0.50216583],\n",
       "       [0.8684533 , 0.75616246],\n",
       "       [0.1347326 , 0.35576849]])"
      ]
     },
     "execution_count": 105,
     "metadata": {},
     "output_type": "execute_result"
    }
   ],
   "source": [
    "probability_ds = .25\n",
    "num_bilboards = ncols = 2\n",
    "n_simulations = nrows = 10 ** 5\n",
    "\n",
    "data = np.random.random((nrows, ncols))"
   ]
  },
  {
   "cell_type": "code",
   "execution_count": 106,
   "id": "9e995032",
   "metadata": {},
   "outputs": [],
   "source": [
    "face_on_billboard = data < probability_ds"
   ]
  },
  {
   "cell_type": "code",
   "execution_count": 107,
   "id": "eded605c",
   "metadata": {},
   "outputs": [
    {
     "data": {
      "text/plain": [
       "array([[False, False],\n",
       "       [False, False],\n",
       "       [False, False],\n",
       "       ...,\n",
       "       [False, False],\n",
       "       [False, False],\n",
       "       [ True, False]])"
      ]
     },
     "execution_count": 107,
     "metadata": {},
     "output_type": "execute_result"
    }
   ],
   "source": [
    "face_on_billboard"
   ]
  },
  {
   "cell_type": "code",
   "execution_count": 108,
   "id": "68d5ac5c",
   "metadata": {},
   "outputs": [
    {
     "data": {
      "text/plain": [
       "array([0, 0, 0, ..., 0, 0, 1])"
      ]
     },
     "execution_count": 108,
     "metadata": {},
     "output_type": "execute_result"
    }
   ],
   "source": [
    "face_on_billboard.sum(axis=1)"
   ]
  },
  {
   "cell_type": "code",
   "execution_count": 109,
   "id": "a71095a7",
   "metadata": {},
   "outputs": [
    {
     "data": {
      "text/plain": [
       "0.06291"
      ]
     },
     "execution_count": 109,
     "metadata": {},
     "output_type": "execute_result"
    }
   ],
   "source": [
    "(face_on_billboard.sum(axis=1) == 2).mean()"
   ]
  },
  {
   "cell_type": "markdown",
   "id": "10e3d16b",
   "metadata": {},
   "source": [
    "#### 4. Codeup students buy, on average, 3 poptart packages with a standard deviation of 1.5 a day from the snack vending machine. If on monday the machine is restocked with 17 poptart packages, how likely is it that I will be able to buy some poptarts on Friday afternoon? (Remember, if you have mean and standard deviation, use the np.random.normal)"
   ]
  },
  {
   "cell_type": "code",
   "execution_count": 122,
   "id": "3bace0e3",
   "metadata": {},
   "outputs": [],
   "source": [
    "simulations = 10 ** 5\n",
    "days = 5\n",
    "mean_poptart = 3\n",
    "poptart_std = 1.5\n",
    "poptarts_purchased = np.random.normal(mean_poptart, poptart_std, (simulations,days)).astype(int)\n"
   ]
  },
  {
   "cell_type": "code",
   "execution_count": 123,
   "id": "c33120a5",
   "metadata": {},
   "outputs": [
    {
     "data": {
      "text/plain": [
       "array([[2, 2, 1, 5, 1],\n",
       "       [4, 4, 2, 2, 1],\n",
       "       [4, 1, 0, 3, 3],\n",
       "       ...,\n",
       "       [3, 4, 0, 1, 1],\n",
       "       [5, 2, 2, 0, 0],\n",
       "       [4, 2, 3, 1, 6]])"
      ]
     },
     "execution_count": 123,
     "metadata": {},
     "output_type": "execute_result"
    }
   ],
   "source": [
    "poptarts_purchased"
   ]
  },
  {
   "cell_type": "code",
   "execution_count": 124,
   "id": "4f0a96f5",
   "metadata": {},
   "outputs": [
    {
     "data": {
      "text/plain": [
       "0.87848"
      ]
     },
     "execution_count": 124,
     "metadata": {},
     "output_type": "execute_result"
    }
   ],
   "source": [
    "(pd.DataFrame(poptarts_purchased).apply(lambda row: row.sum() < 17, axis=1).mean())"
   ]
  },
  {
   "cell_type": "markdown",
   "id": "83515e96",
   "metadata": {},
   "source": [
    "#### 5. Compare Heights\n",
    "\n",
    "* Men have an average height of 178 cm and standard deviation of 8cm.\n",
    "* Women have a mean of 170, sd = 6cm.\n",
    "* Since you have means and standard deviations, you can use np.random.normal to generate observations.\n",
    "* If a man and woman are chosen at random, P(woman taller than man)?"
   ]
  },
  {
   "cell_type": "code",
   "execution_count": 125,
   "id": "7426d313",
   "metadata": {},
   "outputs": [],
   "source": [
    "male_heights = np.random.normal(178, 8, 10**5)\n",
    "female_heights = np.random.normal(170, 6, 10**5)\n",
    "taller_woman = female_heights > male_heights"
   ]
  },
  {
   "cell_type": "code",
   "execution_count": 139,
   "id": "3a692dd8",
   "metadata": {},
   "outputs": [
    {
     "data": {
      "text/plain": [
       "0.21137"
      ]
     },
     "execution_count": 139,
     "metadata": {},
     "output_type": "execute_result"
    }
   ],
   "source": [
    "taller_woman.mean()"
   ]
  },
  {
   "cell_type": "markdown",
   "id": "a008d3d9",
   "metadata": {},
   "source": [
    "#### 6. When installing anaconda on a student's computer, there's a 1 in 250 chance that the download is corrupted and the installation fails. What are the odds that after having 50 students download anaconda, no one has an installation issue? 100 students?"
   ]
  },
  {
   "cell_type": "code",
   "execution_count": 157,
   "id": "35a73a0c",
   "metadata": {},
   "outputs": [],
   "source": [
    "probability = 0.004\n",
    "num_sim = num_rows = 10 ** 5\n",
    "num_cols = 50\n",
    "num_cols2 = 100\n",
    "\n",
    "downloads = np.random.random((num_rows,num_cols))"
   ]
  },
  {
   "cell_type": "code",
   "execution_count": 158,
   "id": "5a1c8416",
   "metadata": {},
   "outputs": [],
   "source": [
    "fail = downloads < probability\n",
    "\n",
    "downloads_df = pd.DataFrame(downloads)"
   ]
  },
  {
   "cell_type": "code",
   "execution_count": 159,
   "id": "12f5d9bf",
   "metadata": {},
   "outputs": [
    {
     "data": {
      "text/plain": [
       "0.0039932"
      ]
     },
     "execution_count": 159,
     "metadata": {},
     "output_type": "execute_result"
    }
   ],
   "source": [
    "fail.mean()"
   ]
  },
  {
   "cell_type": "code",
   "execution_count": 160,
   "id": "d17ff940",
   "metadata": {},
   "outputs": [],
   "source": [
    "downloads2 = np.random.random((num_rows,num_cols2))"
   ]
  },
  {
   "cell_type": "code",
   "execution_count": 162,
   "id": "81bc0dca",
   "metadata": {},
   "outputs": [],
   "source": [
    "fail2 = downloads2 < probability"
   ]
  },
  {
   "cell_type": "code",
   "execution_count": 163,
   "id": "4fecd9d1",
   "metadata": {},
   "outputs": [
    {
     "data": {
      "text/plain": [
       "0.0040281"
      ]
     },
     "execution_count": 163,
     "metadata": {},
     "output_type": "execute_result"
    }
   ],
   "source": [
    "fail2.mean()"
   ]
  },
  {
   "cell_type": "code",
   "execution_count": null,
   "id": "25822c90",
   "metadata": {},
   "outputs": [],
   "source": []
  }
 ],
 "metadata": {
  "kernelspec": {
   "display_name": "Python 3 (ipykernel)",
   "language": "python",
   "name": "python3"
  },
  "language_info": {
   "codemirror_mode": {
    "name": "ipython",
    "version": 3
   },
   "file_extension": ".py",
   "mimetype": "text/x-python",
   "name": "python",
   "nbconvert_exporter": "python",
   "pygments_lexer": "ipython3",
   "version": "3.8.8"
  }
 },
 "nbformat": 4,
 "nbformat_minor": 5
}
