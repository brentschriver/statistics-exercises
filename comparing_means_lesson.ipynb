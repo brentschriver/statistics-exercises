{
 "cells": [
  {
   "cell_type": "markdown",
   "id": "550c4f56",
   "metadata": {},
   "source": [
    "### Central Limit Theorem\n",
    "\n",
    "If you have a population (regardless of distribution) with mean(mu) and take sufficiently large random samples (usually N > 30) from the population, then the distribution of the sample means will be approximately normally distributed."
   ]
  },
  {
   "cell_type": "code",
   "execution_count": 1,
   "id": "fd32b961",
   "metadata": {},
   "outputs": [],
   "source": [
    "import numpy as np\n",
    "import seaborn as sns\n",
    "import scipy.stats as stats\n",
    "import pandas as pd\n",
    "import matplotlib.pyplot as plt"
   ]
  },
  {
   "cell_type": "code",
   "execution_count": 2,
   "id": "4ab78508",
   "metadata": {},
   "outputs": [],
   "source": [
    "roll = stats.randint(1,7)"
   ]
  },
  {
   "cell_type": "code",
   "execution_count": 3,
   "id": "3548e793",
   "metadata": {},
   "outputs": [
    {
     "data": {
      "text/plain": [
       "Text(0.5, 1.0, 'Uniform Population distribution')"
      ]
     },
     "execution_count": 3,
     "metadata": {},
     "output_type": "execute_result"
    },
    {
     "data": {
      "image/png": "[encoded data removed]",
      "text/plain": [
       "<Figure size 432x288 with 1 Axes>"
      ]
     },
     "metadata": {
      "needs_background": "light"
     },
     "output_type": "display_data"
    }
   ],
   "source": [
    "plt.hist(roll.rvs(100000), bins = [1,2,3,4,5,6,7], align = 'left', width = 0.9)\n",
    "plt.title('Uniform Population distribution')"
   ]
  },
  {
   "cell_type": "markdown",
   "id": "c0ba3c1b",
   "metadata": {},
   "source": [
    "### Distribution of sample means"
   ]
  },
  {
   "cell_type": "markdown",
   "id": "3823d22f",
   "metadata": {},
   "source": [
    "## One Sample T-Test\n",
    "\n",
    "Goal: Compare observed mean to theoretical one.\n",
    "\n",
    "1. Plot Distributions (i.e. Histograms!)\n",
    "2. Establish Hypotheses\n",
    "3. Set Significance Level: alpha = .05 (The significance level is the probability of rejecting a null hypothesis that is correct)\n",
    "4. Verify Assumptions: Normal Distribution, or at least 30 observations and \"kinda\" normal. The more observations you have, the less \"normal\" it needs to appear. (CLT)\n",
    "5. Compute test statistic and probability (t-statistic & p-value) using scipy.stats.ttest_1samp\n",
    "6. Decide. For a 2-tailed test, we take the p-value as is. For a 1-tailed test, we evaluate p/2 < alpha and t > 0 (to test if higher), and of a less-than test when p/2 < alpha and t < 0."
   ]
  },
  {
   "cell_type": "code",
   "execution_count": null,
   "id": "9b904dbc",
   "metadata": {},
   "outputs": [],
   "source": []
  },
  {
   "cell_type": "code",
   "execution_count": null,
   "id": "1b7bf871",
   "metadata": {},
   "outputs": [],
   "source": []
  }
 ],
 "metadata": {
  "kernelspec": {
   "display_name": "Python 3 (ipykernel)",
   "language": "python",
   "name": "python3"
  },
  "language_info": {
   "codemirror_mode": {
    "name": "ipython",
    "version": 3
   },
   "file_extension": ".py",
   "mimetype": "text/x-python",
   "name": "python",
   "nbconvert_exporter": "python",
   "pygments_lexer": "ipython3",
   "version": "3.8.8"
  }
 },
 "nbformat": 4,
 "nbformat_minor": 5
}
