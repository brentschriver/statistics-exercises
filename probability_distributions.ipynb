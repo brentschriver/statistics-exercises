{
 "cells": [
  {
   "cell_type": "markdown",
   "id": "57bc7918",
   "metadata": {},
   "source": [
    "## 1. A bank found that the average number of cars waiting during the noon hour at a drive-up window follows a Poisson distribution with a mean of 2 cars. Make a chart of this distribution and answer these questions concerning the probability of cars waiting at the drive-up window.\n",
    "What is the probability that no cars drive up in the noon hour?\n",
    "\n",
    "What is the probability that 3 or more cars come through the drive through?\n",
    "\n",
    "How likely is it that the drive through gets at least 1 car?"
   ]
  },
  {
   "cell_type": "code",
   "execution_count": 45,
   "id": "67aa5961",
   "metadata": {},
   "outputs": [],
   "source": [
    "import matplotlib.pyplot as plt\n",
    "import pandas as pd\n",
    "import numpy as np\n",
    "from scipy import stats"
   ]
  },
  {
   "cell_type": "code",
   "execution_count": 46,
   "id": "0f3bc790",
   "metadata": {},
   "outputs": [
    {
     "data": {
      "image/png": "[encoded data removed]",
      "text/plain": [
       "<Figure size 432x288 with 1 Axes>"
      ]
     },
     "metadata": {
      "needs_background": "light"
     },
     "output_type": "display_data"
    }
   ],
   "source": [
    "λ = 2\n",
    "\n",
    "x = np.arange(0,12)\n",
    "y = stats.poisson(λ).pmf(x)\n",
    "\n",
    "plt.bar(x,y)\n",
    "plt.title('Poisson distribution with $λ = 2$')\n",
    "plt.xlabel('Number of cars')\n",
    "plt.ylabel('P(X)');"
   ]
  },
  {
   "cell_type": "code",
   "execution_count": 5,
   "id": "1d047623",
   "metadata": {},
   "outputs": [],
   "source": [
    "probability_of_zero_cars = stats.poisson(2).pmf(0)"
   ]
  },
  {
   "cell_type": "code",
   "execution_count": 6,
   "id": "a6384c47",
   "metadata": {},
   "outputs": [
    {
     "data": {
      "text/plain": [
       "0.1353352832366127"
      ]
     },
     "execution_count": 6,
     "metadata": {},
     "output_type": "execute_result"
    }
   ],
   "source": [
    "probability_of_zero_cars"
   ]
  },
  {
   "cell_type": "code",
   "execution_count": 7,
   "id": "268bc215",
   "metadata": {},
   "outputs": [],
   "source": [
    "three_or_more_cars = stats.poisson(2).sf(2)"
   ]
  },
  {
   "cell_type": "code",
   "execution_count": 8,
   "id": "e3bd99bf",
   "metadata": {},
   "outputs": [
    {
     "data": {
      "text/plain": [
       "0.32332358381693654"
      ]
     },
     "execution_count": 8,
     "metadata": {},
     "output_type": "execute_result"
    }
   ],
   "source": [
    "three_or_more_cars"
   ]
  },
  {
   "cell_type": "code",
   "execution_count": 47,
   "id": "8d0d50ee",
   "metadata": {},
   "outputs": [],
   "source": [
    "at_least_one_car = stats.poisson(2).sf(0)"
   ]
  },
  {
   "cell_type": "code",
   "execution_count": 48,
   "id": "e8f9f904",
   "metadata": {},
   "outputs": [
    {
     "data": {
      "text/plain": [
       "0.8646647167633873"
      ]
     },
     "execution_count": 48,
     "metadata": {},
     "output_type": "execute_result"
    }
   ],
   "source": [
    "at_least_one_car"
   ]
  },
  {
   "cell_type": "markdown",
   "id": "a81beec5",
   "metadata": {},
   "source": [
    "## 2. Grades of State University graduates are normally distributed with a mean of 3.0 and a standard deviation of .3. Calculate the following:\n",
    "* What grade point average is required to be in the top 5% of the graduating class?\n",
    "* What GPA constitutes the bottom 15% of the class?\n",
    "* An eccentric alumnus left scholarship money for students in the third decile from the bottom of their class. Determine the range of the third decile. Would a student with a 2.8 grade point average qualify for this scholarship?\n",
    "* If I have a GPA of 3.5, what percentile am I in?"
   ]
  },
  {
   "cell_type": "markdown",
   "id": "69196222",
   "metadata": {},
   "source": [
    "### What grade point average is required to b in the top 5% of the graduating class?"
   ]
  },
  {
   "cell_type": "code",
   "execution_count": 13,
   "id": "55273a0d",
   "metadata": {},
   "outputs": [],
   "source": [
    "mu = 3.0\n",
    "sigma = 0.3\n",
    "\n",
    "grades = stats.norm(mu,sigma)"
   ]
  },
  {
   "cell_type": "code",
   "execution_count": 34,
   "id": "800e52a0",
   "metadata": {},
   "outputs": [
    {
     "data": {
      "text/plain": [
       "3.4934560880854417"
      ]
     },
     "execution_count": 34,
     "metadata": {},
     "output_type": "execute_result"
    }
   ],
   "source": [
    "grades.isf(.05)"
   ]
  },
  {
   "cell_type": "code",
   "execution_count": 38,
   "id": "08489b8c",
   "metadata": {},
   "outputs": [
    {
     "data": {
      "text/plain": [
       "0.050156992606219454"
      ]
     },
     "execution_count": 38,
     "metadata": {},
     "output_type": "execute_result"
    }
   ],
   "source": [
    "grades.sf(3.493)"
   ]
  },
  {
   "cell_type": "markdown",
   "id": "e56f285a",
   "metadata": {},
   "source": [
    "### What GPA constitutes the bottom 15% of the class?"
   ]
  },
  {
   "cell_type": "code",
   "execution_count": 39,
   "id": "595479fd",
   "metadata": {},
   "outputs": [
    {
     "data": {
      "text/plain": [
       "2.689069983151863"
      ]
     },
     "execution_count": 39,
     "metadata": {},
     "output_type": "execute_result"
    }
   ],
   "source": [
    "grades.ppf(.15)"
   ]
  },
  {
   "cell_type": "markdown",
   "id": "fbdf3753",
   "metadata": {},
   "source": [
    "### An eccentric alumnus left scholarship money for students in the third decile from the bottom of their class. Determine the range of the third decile. Would a student with a 2.8 grade point average qualify for this scholarship?"
   ]
  },
  {
   "cell_type": "markdown",
   "id": "054999ce",
   "metadata": {},
   "source": [
    "get GPA of .21 and .30 as this is the range for the third decile"
   ]
  },
  {
   "cell_type": "code",
   "execution_count": 42,
   "id": "29a652fd",
   "metadata": {},
   "outputs": [
    {
     "name": "stdout",
     "output_type": "stream",
     "text": [
      "2.7580736258945278\n",
      "2.842679846187588\n"
     ]
    }
   ],
   "source": [
    "print(grades.ppf(.21))\n",
    "print(grades.ppf(.30))"
   ]
  },
  {
   "cell_type": "markdown",
   "id": "edf8a154",
   "metadata": {},
   "source": [
    "### If I have a GPA of 3.5, what percentile am I in?"
   ]
  },
  {
   "cell_type": "code",
   "execution_count": 43,
   "id": "af8e8f4f",
   "metadata": {},
   "outputs": [
    {
     "data": {
      "text/plain": [
       "0.9522096477271853"
      ]
     },
     "execution_count": 43,
     "metadata": {},
     "output_type": "execute_result"
    }
   ],
   "source": [
    "grades.cdf(3.5)"
   ]
  },
  {
   "cell_type": "markdown",
   "id": "fef5415c",
   "metadata": {},
   "source": [
    "### 3. A marketing website has an average click-through rate of 2%. One day they observe 4326 visitors and 97 click-throughs. How likely is it that this many people or more click through?"
   ]
  },
  {
   "cell_type": "code",
   "execution_count": 52,
   "id": "ed9ab5e4",
   "metadata": {},
   "outputs": [
    {
     "data": {
      "text/plain": [
       "0.1397582363130086"
      ]
     },
     "execution_count": 52,
     "metadata": {},
     "output_type": "execute_result"
    }
   ],
   "source": [
    "# Use a binomial distribution\n",
    "visitors = 4326\n",
    "mu = .02\n",
    "\n",
    "stats.binom(visitors, mu).sf(96)"
   ]
  },
  {
   "cell_type": "markdown",
   "id": "07ad4280",
   "metadata": {},
   "source": [
    "### 4. You are working on some statistics homework consisting of 100 questions where all of the answers are a probability rounded to the hundreths place. Looking to save time, you put down random probabilities as the answer to each question.\n",
    "What is the probability that at least one of your first 60 answers is correct?"
   ]
  },
  {
   "cell_type": "code",
   "execution_count": null,
   "id": "603d935d",
   "metadata": {},
   "outputs": [],
   "source": []
  }
 ],
 "metadata": {
  "kernelspec": {
   "display_name": "Python 3 (ipykernel)",
   "language": "python",
   "name": "python3"
  },
  "language_info": {
   "codemirror_mode": {
    "name": "ipython",
    "version": 3
   },
   "file_extension": ".py",
   "mimetype": "text/x-python",
   "name": "python",
   "nbconvert_exporter": "python",
   "pygments_lexer": "ipython3",
   "version": "3.8.8"
  }
 },
 "nbformat": 4,
 "nbformat_minor": 5
}
