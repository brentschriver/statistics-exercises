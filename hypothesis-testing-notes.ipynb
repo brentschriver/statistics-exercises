{
 "cells": [
  {
   "cell_type": "markdown",
   "id": "b6e51d3a",
   "metadata": {},
   "source": [
    "### Statistics\n",
    "* Theoretical\n",
    "* Applied"
   ]
  },
  {
   "cell_type": "markdown",
   "id": "d07b057c",
   "metadata": {},
   "source": [
    "#### Applied Statisitics\n",
    "* Descriptive\n",
    " - Measure of Central Tendency\n",
    " - Measures of Variability\n",
    "* Inferential\n",
    " - Hpothesis Testing\n",
    "  * 1. Make inferences from the sample and generalize them to the population\n",
    "  * 2. "
   ]
  },
  {
   "cell_type": "markdown",
   "id": "8d0d1f1d",
   "metadata": {},
   "source": [
    "Errors in Hypothesis Testing\n",
    "\n",
    "Null Hypothesis is True\n",
    " - Accept Null Hypothesis - True Negative\n",
    " - Reject Null Hypothesis - False Positive (Type 1 Error)\n",
    "Null Hypothesis is False\n",
    " - Accept Null Hypothesis - False Negative (Type 2 Error)\n",
    " - Reject Null Hypothesis - True Negative\n"
   ]
  },
  {
   "cell_type": "markdown",
   "id": "d5f10d19",
   "metadata": {},
   "source": [
    "### Hypothesis Testing Workflow\n",
    "1. Choose the right type of test for your data/question.\n",
    "  \n",
    "  Narrow down broad questions to a single testable comparison:\n",
    "  * Do customers churn because their bills are too high? -> Do those who churn spend more than those who don't churn?\n",
    "  * Is their internet too slow? Maybe there's something wrong with certain internet options? -> Are certain internet types more or less likely to church?\n",
    "  * Do customers get charged more the longer they have been with the company? -> Is there a linear relationship between tenure and average monthly charge?\n",
    " \n",
    " Check underlying assumptions:\n",
    "     1. Sample Size? At least 100 observations\n",
    "     2. Independent observations? Previous observations should not affect future observations.\n",
    "     3. Similar variance between groups? The groups being compared should have similar range in values.\n",
    "     4. Normality of data (if quantitative)? The values should be normally distributed.\n",
    "    \n",
    "\n",
    "2. Set a desired confidence level and form hypothesis.\n",
    "\n",
    "  Depends on the consequences of being wrong:\n",
    "  * Lenient - CI: 90%  alpha = 0.10\n",
    "  * Typical - CI: 95%  alpha = 0.05\n",
    "  * Strict - CI: 99%  alpha = 0.01\n",
    "  \n",
    " \n",
    "3. Calculate the appropriate test statistics and p-value.\n",
    "\n",
    "  \n",
    "4. Conclude based on results\n",
    "\n",
    "  * If the p is low, reject the null hypothesis.\n",
    "  * Just because something is statistically significant doesn't mean its useful.\n",
    "  * Statistical results are not the same as controlled experimentation.\n",
    "  * The p-value represents a probability not certainty:\n",
    "    - https://xkcd.com/882/\n",
    "  \n",
    "  The p-value is a function of effect size, sample size, and variability."
   ]
  },
  {
   "cell_type": "code",
   "execution_count": null,
   "id": "34479657",
   "metadata": {},
   "outputs": [],
   "source": []
  }
 ],
 "metadata": {
  "kernelspec": {
   "display_name": "Python 3 (ipykernel)",
   "language": "python",
   "name": "python3"
  },
  "language_info": {
   "codemirror_mode": {
    "name": "ipython",
    "version": 3
   },
   "file_extension": ".py",
   "mimetype": "text/x-python",
   "name": "python",
   "nbconvert_exporter": "python",
   "pygments_lexer": "ipython3",
   "version": "3.8.8"
  }
 },
 "nbformat": 4,
 "nbformat_minor": 5
}
