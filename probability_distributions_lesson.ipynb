{
 "cells": [
  {
   "cell_type": "markdown",
   "id": "9c4b8b48",
   "metadata": {},
   "source": [
    "Discrete distribution:\n",
    "   * Number of customer complaints\n",
    "   * Number of calls receied in a call_center per hour\n",
    "   * Number of food trucks at Travis Park in a day\n",
    "    \n",
    "Continuous distribution:\n",
    "   * Height\n",
    "   * Temperature\n",
    "   * Employee salaries\n",
    "   "
   ]
  },
  {
   "cell_type": "markdown",
   "id": "70b67070",
   "metadata": {},
   "source": [
    "### Types of Distributions:\n",
    "* Uniform distribution\n",
    "* Normal distribution\n",
    "* Binomial distribution\n",
    "* Poisson distribution\n",
    "\n",
    "More probability distributions: https://en.wikipedia.org/wiki/List_of_probability_distributions\n",
    "https://www.kdnuggets.com/2020/02/probability-distributions-data-science.html"
   ]
  },
  {
   "cell_type": "markdown",
   "id": "5e12b5c4",
   "metadata": {},
   "source": [
    "### Lesson Objectives:\n",
    "* Understand and recognize these distributions\n",
    "* Understand parameters"
   ]
  },
  {
   "cell_type": "markdown",
   "id": "b6c16272",
   "metadata": {},
   "source": [
    "### Uniform Distribution\n",
    "\n",
    "Rolling a fair 6-sided die\n",
    "* What does the probability distribution look like:"
   ]
  },
  {
   "cell_type": "markdown",
   "id": "d368112a",
   "metadata": {},
   "source": [
    "*** Should insert distribution chart ***"
   ]
  },
  {
   "cell_type": "code",
   "execution_count": 9,
   "id": "35c13579",
   "metadata": {},
   "outputs": [],
   "source": [
    "import matplotlib.pyplot as plt\n",
    "import numpy as np\n",
    "import pandas as pd\n",
    "from scipy import stats\n",
    "from scipy.stats import norm, binom"
   ]
  },
  {
   "cell_type": "code",
   "execution_count": 10,
   "id": "9f21bf75",
   "metadata": {},
   "outputs": [
    {
     "data": {
      "text/plain": [
       "<scipy.stats._distn_infrastructure.rv_frozen at 0x7f8091635e50>"
      ]
     },
     "execution_count": 10,
     "metadata": {},
     "output_type": "execute_result"
    }
   ],
   "source": [
    "die_distribution = stats.randint(1,7)\n",
    "die_distribution"
   ]
  },
  {
   "cell_type": "markdown",
   "id": "cc66d485",
   "metadata": {},
   "source": [
    "#### scipy distribution object: What can we calculate from distribution?\n",
    "* value -> probability\n",
    "    - pmf: probability at a particular value of random variable (only for discrete values)\n",
    "    - pdf: probability at a particular value of random variable (only for continuous values)\n",
    "    - cdf: cumulative probability for less than or equal to value of random variables.\n",
    "    - sf: probability for a random variable\n",
    "* probability -> value\n",
    "    - ppf: less than or equal to a point\n",
    "    - isf: greater than a point\n",
    "* rvs for random values"
   ]
  },
  {
   "cell_type": "code",
   "execution_count": 14,
   "id": "be722da0",
   "metadata": {},
   "outputs": [
    {
     "data": {
      "text/plain": [
       "0.167"
      ]
     },
     "execution_count": 14,
     "metadata": {},
     "output_type": "execute_result"
    }
   ],
   "source": [
    "# what is the probability of rolling a 3?\n",
    "die_distribution.pmf(3).round(3)"
   ]
  },
  {
   "cell_type": "code",
   "execution_count": 13,
   "id": "c0340cee",
   "metadata": {},
   "outputs": [
    {
     "data": {
      "text/plain": [
       "0.5"
      ]
     },
     "execution_count": 13,
     "metadata": {},
     "output_type": "execute_result"
    }
   ],
   "source": [
    "# What is the probability of rolling 3 or less?\n",
    "die_distribution.cdf(3)"
   ]
  },
  {
   "cell_type": "code",
   "execution_count": 15,
   "id": "a7e433a1",
   "metadata": {},
   "outputs": [
    {
     "data": {
      "text/plain": [
       "3.0"
      ]
     },
     "execution_count": 15,
     "metadata": {},
     "output_type": "execute_result"
    }
   ],
   "source": [
    "# Just inverse of cdf. Given a probability calculate value of random variable\n",
    "die_distribution.ppf(0.5)"
   ]
  },
  {
   "cell_type": "code",
   "execution_count": 16,
   "id": "ade4fc2f",
   "metadata": {},
   "outputs": [
    {
     "data": {
      "text/plain": [
       "0.33333333333333337"
      ]
     },
     "execution_count": 16,
     "metadata": {},
     "output_type": "execute_result"
    }
   ],
   "source": [
    "# What is the likelihood we roll a value higher than 4?\n",
    "die_distribution.sf(4)"
   ]
  },
  {
   "cell_type": "code",
   "execution_count": 17,
   "id": "54a1a666",
   "metadata": {},
   "outputs": [
    {
     "data": {
      "text/plain": [
       "4.0"
      ]
     },
     "execution_count": 17,
     "metadata": {},
     "output_type": "execute_result"
    }
   ],
   "source": [
    "# There is a 1/3 chance a dice roll will be higher than what value\n",
    "die_distribution.isf(1/3)"
   ]
  },
  {
   "cell_type": "markdown",
   "id": "8c920c2d",
   "metadata": {},
   "source": [
    "### Examples of uniform distribution in real life:\n",
    "- rolling a dice\n",
    "- flipping a coin\n",
    "- lucky draw"
   ]
  },
  {
   "cell_type": "markdown",
   "id": "5b6fea76",
   "metadata": {},
   "source": [
    "### Normal Distribution\n",
    "* Bell shaped\n",
    "* Most observations are closer to the mean\n",
    "* Common in nature. Examples:\n",
    "    * Height\n",
    "    * time a flight takes from point A to B\n",
    "    * manufacturing\n",
    "* Two parameters\n",
    "    * mean(mu)\n",
    "    * std dev(sigma)"
   ]
  },
  {
   "cell_type": "markdown",
   "id": "5440e43d",
   "metadata": {},
   "source": [
    "#### Suppose that a store's daily sales are normally distributed with a mean of 12,000 dollars and a standard deviation of 2000 dollars.\n",
    "    * What is the probability that sales are 10,000 dollars on a certain day?\n",
    "    * What is the probability that sales are 10,000 dollars or less on a certain day?\n",
    "    * What is the probability that sales are greater than 15,000 dollars on a certain day?\n",
    "    * How much would the daily sales ahve to be to be in the top 10% of all days?"
   ]
  },
  {
   "cell_type": "markdown",
   "id": "bdedd58c",
   "metadata": {},
   "source": [
    "### What is the probability that sales are 10,000 dollars on a certain day?\n"
   ]
  },
  {
   "cell_type": "code",
   "execution_count": 18,
   "id": "1e48a3cc",
   "metadata": {},
   "outputs": [],
   "source": [
    "mean = 12000\n",
    "std_dev = 2000\n",
    "\n",
    "sales = stats.norm(mean, std_dev)"
   ]
  },
  {
   "cell_type": "code",
   "execution_count": 19,
   "id": "d1d64504",
   "metadata": {},
   "outputs": [
    {
     "data": {
      "text/plain": [
       "<scipy.stats._distn_infrastructure.rv_frozen at 0x7f809449ca60>"
      ]
     },
     "execution_count": 19,
     "metadata": {},
     "output_type": "execute_result"
    }
   ],
   "source": [
    "sales"
   ]
  },
  {
   "cell_type": "code",
   "execution_count": 22,
   "id": "17dc4332",
   "metadata": {},
   "outputs": [
    {
     "data": {
      "text/plain": [
       "0.00012098536225957169"
      ]
     },
     "execution_count": 22,
     "metadata": {},
     "output_type": "execute_result"
    }
   ],
   "source": [
    "sales.pdf(10000)"
   ]
  },
  {
   "cell_type": "markdown",
   "id": "85a8b325",
   "metadata": {},
   "source": [
    "### What is the probability that sales are 10,000 dollars or less on a certain day?"
   ]
  },
  {
   "cell_type": "code",
   "execution_count": 23,
   "id": "47e30cc6",
   "metadata": {},
   "outputs": [
    {
     "data": {
      "text/plain": [
       "0.15865525393145707"
      ]
     },
     "execution_count": 23,
     "metadata": {},
     "output_type": "execute_result"
    }
   ],
   "source": [
    "sales.cdf(10000)"
   ]
  },
  {
   "cell_type": "markdown",
   "id": "b9841ec1",
   "metadata": {},
   "source": [
    "### What is the probability that sales are greater than 15,000 dollars on a certain day?"
   ]
  },
  {
   "cell_type": "code",
   "execution_count": 24,
   "id": "04631c2e",
   "metadata": {},
   "outputs": [
    {
     "data": {
      "text/plain": [
       "0.06680720126885807"
      ]
     },
     "execution_count": 24,
     "metadata": {},
     "output_type": "execute_result"
    }
   ],
   "source": [
    "sales.sf(15000)"
   ]
  },
  {
   "cell_type": "markdown",
   "id": "cf404a02",
   "metadata": {},
   "source": [
    "#### Mini Exercise:\n",
    "The average battery life "
   ]
  },
  {
   "cell_type": "markdown",
   "id": "c778070a",
   "metadata": {},
   "source": [
    "1. What is the probability the cell phone battery lasts more than 16 hours?"
   ]
  },
  {
   "cell_type": "code",
   "execution_count": 25,
   "id": "356d2e8f",
   "metadata": {},
   "outputs": [],
   "source": [
    "μ = 14\n",
    "σ = 1.5\n",
    "\n",
    "battery = stats.norm(μ, σ)"
   ]
  },
  {
   "cell_type": "code",
   "execution_count": 27,
   "id": "1aa77158",
   "metadata": {},
   "outputs": [
    {
     "data": {
      "text/plain": [
       "0.09121121972586788"
      ]
     },
     "execution_count": 27,
     "metadata": {},
     "output_type": "execute_result"
    }
   ],
   "source": [
    "battery.sf(16)"
   ]
  },
  {
   "cell_type": "code",
   "execution_count": 29,
   "id": "7242b39d",
   "metadata": {},
   "outputs": [
    {
     "data": {
      "text/plain": [
       "0.109"
      ]
     },
     "execution_count": 29,
     "metadata": {},
     "output_type": "execute_result"
    }
   ],
   "source": [
    "# 2. What is the probability that the cell phone battery lasts for exactly 12 hours.\n",
    "\n",
    "battery.pdf(12).round(3)"
   ]
  },
  {
   "cell_type": "code",
   "execution_count": 30,
   "id": "5ba8b803",
   "metadata": {},
   "outputs": [
    {
     "data": {
      "text/plain": [
       "0.09121121972586788"
      ]
     },
     "execution_count": 30,
     "metadata": {},
     "output_type": "execute_result"
    }
   ],
   "source": [
    "# 3. What is the probability that the cell phone battery lasts for 12 hours or less?\n",
    "battery.cdf(12)"
   ]
  },
  {
   "cell_type": "code",
   "execution_count": 31,
   "id": "7192ca45",
   "metadata": {},
   "outputs": [
    {
     "data": {
      "text/plain": [
       "15.011734625294123"
      ]
     },
     "execution_count": 31,
     "metadata": {},
     "output_type": "execute_result"
    }
   ],
   "source": [
    "# 4. How many hours do the battery lasts for top 25% longest lasting phones?\n",
    "battery.isf(0.25)"
   ]
  },
  {
   "cell_type": "markdown",
   "id": "f896d4ec",
   "metadata": {},
   "source": [
    "## Binomial Distribution\n",
    "\n",
    "Binomial distribution is a discrete probability distribution.\n",
    "\n",
    "Defined by:\n",
    " * Number of trials(sequence of trials)\n",
    " * Probability of 'success' in each trial\n",
    " \n"
   ]
  },
  {
   "cell_type": "markdown",
   "id": "2985af82",
   "metadata": {},
   "source": [
    "### Assumptions:\n",
    " * Two potential outcome per trial\n",
    " * Probability of success is same across all trials\n",
    " * Each trial is independent"
   ]
  },
  {
   "cell_type": "markdown",
   "id": "e9edf823",
   "metadata": {},
   "source": [
    "### Example: Suppose we flip a fair coin 5 times in a row. What is probability of getting exactly 1 head.\n",
    "\n",
    "#### Random variable x = number of heads (success) from flipping a coin 5 times.\n",
    "What is a trial.\n",
    " * Each flip of coin is a trial\n",
    " * number of trials = 5\n",
    "\n",
    "Define what is 'success'.\n",
    " * Getting 'heads' in a coin toss\n",
    " * probability of success (getting 'heads') = 0.5\n",
    " \n",
    "Total possible outcomes for 5 coin flips = 2.2.2.2.2 = 32"
   ]
  },
  {
   "cell_type": "code",
   "execution_count": 32,
   "id": "0adcfb22",
   "metadata": {},
   "outputs": [],
   "source": [
    "# Binomial Parameters:\n",
    "n_trials = 5\n",
    "p = 0.5 # probability of success\n",
    "\n",
    "flips = stats.binom(n_trials, p)"
   ]
  },
  {
   "cell_type": "code",
   "execution_count": 35,
   "id": "1a7a2d4a",
   "metadata": {},
   "outputs": [
    {
     "data": {
      "text/plain": [
       "0.03125"
      ]
     },
     "execution_count": 35,
     "metadata": {},
     "output_type": "execute_result"
    }
   ],
   "source": [
    "# probability of getting 0 heads\n",
    "flips.pmf(0)"
   ]
  },
  {
   "cell_type": "code",
   "execution_count": 36,
   "id": "c1eb0d5d",
   "metadata": {},
   "outputs": [
    {
     "data": {
      "text/plain": [
       "0.3125"
      ]
     },
     "execution_count": 36,
     "metadata": {},
     "output_type": "execute_result"
    }
   ],
   "source": [
    "# probability of getting 2 heads\n",
    "flips.pmf(2)"
   ]
  },
  {
   "cell_type": "markdown",
   "id": "b25d586b",
   "metadata": {},
   "source": [
    "#### Rigged coin distribution\n",
    " * Probability of success (getting 'heads' in a coin toss) = 0.7\n",
    " * Number of trials = 5"
   ]
  },
  {
   "cell_type": "markdown",
   "id": "65ed1f67",
   "metadata": {},
   "source": [
    "### Example Binomial distribution:\n",
    "\n",
    "You are taking a multiple choice test consisting of 30 questions that you forgot to study for. Each question has 4 possible answers and you will choose one at random. What is the probability you get 11 or more questions right?"
   ]
  },
  {
   "cell_type": "code",
   "execution_count": 39,
   "id": "1756028c",
   "metadata": {},
   "outputs": [
    {
     "data": {
      "text/plain": [
       "0.10572812269266013"
      ]
     },
     "execution_count": 39,
     "metadata": {},
     "output_type": "execute_result"
    }
   ],
   "source": [
    "# What kind of distribution is this?\n",
    "# Binomial distribution\n",
    "\n",
    "# success = answering question correctly\n",
    "\n",
    "n_trials = 30\n",
    "p = 0.25\n",
    "\n",
    "# Random variable x: # Number of questions answered correctly\n",
    "\n",
    "stats.binom(30, 0.25).sf(10)"
   ]
  },
  {
   "cell_type": "markdown",
   "id": "5996ada9",
   "metadata": {},
   "source": [
    "### Example 2\n",
    "\n",
    "Suppose there is a 5% chance that a Codeup student will show up late to class. With a class of 20, what is the likelihood that everyone shows up on time?\n",
    "\n",
    "success = someone showing up late to the class"
   ]
  },
  {
   "cell_type": "code",
   "execution_count": 41,
   "id": "3f334b52",
   "metadata": {},
   "outputs": [
    {
     "data": {
      "text/plain": [
       "0.3584859224085422"
      ]
     },
     "execution_count": 41,
     "metadata": {},
     "output_type": "execute_result"
    }
   ],
   "source": [
    "# Random variable x?\n",
    "# Students showing up late\n",
    "\n",
    "# What kind of distribution is this?\n",
    "# Binomial distribution\n",
    "\n",
    "# What are the appropriate defining parameters for this distribution?\n",
    "n_trials = 20\n",
    "p = 0.05\n",
    "\n",
    "stats.binom(n_trials, p).pmf(0)"
   ]
  },
  {
   "cell_type": "markdown",
   "id": "89426acd",
   "metadata": {},
   "source": [
    "### Poisson Distribution\n",
    " * discrete probability distribution\n",
    " * expresses the probability of a given number of events occuring in a fixed interval of time or space\n",
    " * no upper bound on number of events (unlike Binomial Distributions)\n",
    " * Only one paramter (lambda) which is the rate at which the event happens."
   ]
  },
  {
   "cell_type": "markdown",
   "id": "b7e60d6e",
   "metadata": {},
   "source": [
    "#### Real life examples:\n",
    "Telecommunications: $ of calls arriving in to customer service.\n",
    "Astronomy: photons arriving at a telescope\n",
    "Biology: the number of mutations on a strand of DNA per unit length.\n",
    "Management: customers arriving at a counter or call centre.\n",
    "Finance and insurance: number of losses or claims occurring in a given period of time.\n",
    "Radioactivity: number of decays in a given time interval in a radioactive sample."
   ]
  },
  {
   "cell_type": "markdown",
   "id": "1e6a5033",
   "metadata": {},
   "source": [
    "### Example\n",
    "\n",
    "Suppose that astronomers estimate that large meterorites (above a certain size) hit Earth on average once every 100 years (lambda = 1 even per 100 years), and that the number of meteorite hits follows a Poisson distribution.\n",
    "\n",
    "What is the probability of k = 0 meteorite hits in the next 100 years?"
   ]
  },
  {
   "cell_type": "code",
   "execution_count": 42,
   "id": "3a7599f1",
   "metadata": {},
   "outputs": [
    {
     "data": {
      "text/plain": [
       "0.36787944117144233"
      ]
     },
     "execution_count": 42,
     "metadata": {},
     "output_type": "execute_result"
    }
   ],
   "source": [
    "# What kind of distribution is this?\n",
    "# Poisson distribution\n",
    "\n",
    "λ = 1 # per 100 years\n",
    "\n",
    "stats.poisson(λ).pmf(0)"
   ]
  },
  {
   "cell_type": "code",
   "execution_count": 46,
   "id": "371e3514",
   "metadata": {},
   "outputs": [
    {
     "data": {
      "text/plain": [
       "Text(0.5, 1.0, 'Poisson distribution $λ = 100$')"
      ]
     },
     "execution_count": 46,
     "metadata": {},
     "output_type": "execute_result"
    },
    {
     "data": {
      "image/png": "[encoded data removed]",
      "text/plain": [
       "<Figure size 432x288 with 1 Axes>"
      ]
     },
     "metadata": {
      "needs_background": "light"
     },
     "output_type": "display_data"
    }
   ],
   "source": [
    "# plot the data\n",
    "x = np.arange(0,10)\n",
    "y = stats.poisson(λ).pmf(x)\n",
    "\n",
    "plt.bar(x,y)\n",
    "plt.xlabel('No of Meteorite Hits')\n",
    "plt.ylabel('Probability')\n",
    "plt.title('Poisson distribution $λ = 100$')"
   ]
  },
  {
   "cell_type": "code",
   "execution_count": null,
   "id": "2e20927f",
   "metadata": {},
   "outputs": [],
   "source": []
  }
 ],
 "metadata": {
  "kernelspec": {
   "display_name": "Python 3 (ipykernel)",
   "language": "python",
   "name": "python3"
  },
  "language_info": {
   "codemirror_mode": {
    "name": "ipython",
    "version": 3
   },
   "file_extension": ".py",
   "mimetype": "text/x-python",
   "name": "python",
   "nbconvert_exporter": "python",
   "pygments_lexer": "ipython3",
   "version": "3.8.8"
  }
 },
 "nbformat": 4,
 "nbformat_minor": 5
}
