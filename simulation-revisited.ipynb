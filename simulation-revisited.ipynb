{
 "cells": [
  {
   "cell_type": "code",
   "execution_count": 1,
   "id": "ebb43c59",
   "metadata": {},
   "outputs": [],
   "source": [
    "import pandas as pd\n",
    "import numpy as np\n",
    "import viz"
   ]
  },
  {
   "cell_type": "code",
   "execution_count": 2,
   "id": "d84ef593",
   "metadata": {},
   "outputs": [],
   "source": [
    "np.random.seed(29)"
   ]
  },
  {
   "cell_type": "markdown",
   "id": "5ed3c19b",
   "metadata": {},
   "source": [
    "### Generating Random Numbers with Numpy\n",
    "\n",
    "#### The numpy.random module provides a number of functions for generating random numbers.\n",
    "\n",
    "* np.random.choice: selects random options from a list\n",
    "* np.random.uniform: generates numbers between a given lower and upper bound\n",
    "* np.random.random: generates numbers between 0 and 1\n",
    "* np.random.randn: generates numbers from the standard normal distribution\n",
    "* np.random.normal: generates numbers from a normal distribution with a specified mean and standard deviation"
   ]
  },
  {
   "cell_type": "code",
   "execution_count": 3,
   "id": "9c44ba40",
   "metadata": {},
   "outputs": [],
   "source": [
    "number_of_trials = number_of_rows = 3333\n",
    "number_of_dice = number_of_columns = 3"
   ]
  },
  {
   "cell_type": "code",
   "execution_count": 7,
   "id": "58386d39",
   "metadata": {},
   "outputs": [],
   "source": [
    "rolls = np.random.choice([1,2,3,4,5,6], number_of_trials * number_of_dice).reshape(number_of_rows, number_of_columns)"
   ]
  },
  {
   "cell_type": "code",
   "execution_count": 8,
   "id": "a3f7ee0e",
   "metadata": {},
   "outputs": [
    {
     "data": {
      "text/plain": [
       "array([[3, 2, 1],\n",
       "       [2, 6, 5],\n",
       "       [1, 6, 4],\n",
       "       ...,\n",
       "       [1, 5, 2],\n",
       "       [3, 6, 2],\n",
       "       [5, 1, 4]])"
      ]
     },
     "execution_count": 8,
     "metadata": {},
     "output_type": "execute_result"
    }
   ],
   "source": [
    "rolls"
   ]
  },
  {
   "cell_type": "code",
   "execution_count": 13,
   "id": "63e74a1f",
   "metadata": {},
   "outputs": [],
   "source": [
    "sums_by_trial = rolls.sum(axis=1)"
   ]
  },
  {
   "cell_type": "code",
   "execution_count": 14,
   "id": "7d316fe8",
   "metadata": {},
   "outputs": [
    {
     "data": {
      "text/plain": [
       "array([ 6, 13, 11, ...,  8, 11, 10])"
      ]
     },
     "execution_count": 14,
     "metadata": {},
     "output_type": "execute_result"
    }
   ],
   "source": [
    "sums_by_trial"
   ]
  },
  {
   "cell_type": "code",
   "execution_count": 15,
   "id": "f8c4222a",
   "metadata": {},
   "outputs": [
    {
     "data": {
      "image/png": "[encoded data removed]",
      "text/plain": [
       "<Figure size 648x432 with 1 Axes>"
      ]
     },
     "metadata": {
      "needs_background": "light"
     },
     "output_type": "display_data"
    }
   ],
   "source": [
    "viz.simulation_example1(sums_by_trial)"
   ]
  },
  {
   "cell_type": "code",
   "execution_count": 16,
   "id": "e5806b63",
   "metadata": {},
   "outputs": [],
   "source": [
    "wins = sums_by_trial > 12"
   ]
  },
  {
   "cell_type": "code",
   "execution_count": 17,
   "id": "a055f99b",
   "metadata": {},
   "outputs": [
    {
     "data": {
      "text/plain": [
       "array([False,  True, False, ..., False, False, False])"
      ]
     },
     "execution_count": 17,
     "metadata": {},
     "output_type": "execute_result"
    }
   ],
   "source": [
    "wins"
   ]
  },
  {
   "cell_type": "code",
   "execution_count": 18,
   "id": "d4db4e9f",
   "metadata": {},
   "outputs": [],
   "source": [
    "win_rate = wins.astype(int).mean()"
   ]
  },
  {
   "cell_type": "code",
   "execution_count": 19,
   "id": "23c087db",
   "metadata": {},
   "outputs": [
    {
     "data": {
      "text/plain": [
       "0.27422742274227424"
      ]
     },
     "execution_count": 19,
     "metadata": {},
     "output_type": "execute_result"
    }
   ],
   "source": [
    "win_rate"
   ]
  },
  {
   "cell_type": "code",
   "execution_count": 20,
   "id": "5ef0a864",
   "metadata": {},
   "outputs": [
    {
     "data": {
      "text/plain": [
       "-0.886588658865886"
      ]
     },
     "execution_count": 20,
     "metadata": {},
     "output_type": "execute_result"
    }
   ],
   "source": [
    "expected_winnings = win_rate * 15\n",
    "cost = 5\n",
    "expected_profit = expected_winnings - cost\n",
    "expected_profit"
   ]
  },
  {
   "cell_type": "code",
   "execution_count": 21,
   "id": "81c00629",
   "metadata": {},
   "outputs": [
    {
     "data": {
      "text/plain": [
       "0.711071107110711"
      ]
     },
     "execution_count": 21,
     "metadata": {},
     "output_type": "execute_result"
    }
   ],
   "source": [
    "wins = sums_by_trial >= 12\n",
    "win_rate = wins.astype(int).mean()\n",
    "expected_winnings = win_rate * 15\n",
    "cost = 5\n",
    "expected_profit = expected_winnings - cost\n",
    "expected_profit"
   ]
  },
  {
   "cell_type": "code",
   "execution_count": null,
   "id": "56d5d67d",
   "metadata": {},
   "outputs": [],
   "source": []
  }
 ],
 "metadata": {
  "kernelspec": {
   "display_name": "Python 3 (ipykernel)",
   "language": "python",
   "name": "python3"
  },
  "language_info": {
   "codemirror_mode": {
    "name": "ipython",
    "version": 3
   },
   "file_extension": ".py",
   "mimetype": "text/x-python",
   "name": "python",
   "nbconvert_exporter": "python",
   "pygments_lexer": "ipython3",
   "version": "3.8.8"
  }
 },
 "nbformat": 4,
 "nbformat_minor": 5
}
