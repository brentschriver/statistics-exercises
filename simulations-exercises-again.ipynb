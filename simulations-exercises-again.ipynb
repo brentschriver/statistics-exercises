{
 "cells": [
  {
   "cell_type": "code",
   "execution_count": 1,
   "id": "9e37dff0",
   "metadata": {},
   "outputs": [],
   "source": [
    "import pandas as pd\n",
    "import numpy as np"
   ]
  },
  {
   "cell_type": "markdown",
   "id": "c4c9097e",
   "metadata": {},
   "source": [
    "### 1. How likely is it that you roll doubles when rolling two dice?"
   ]
  },
  {
   "cell_type": "code",
   "execution_count": 2,
   "id": "4cc7b8cd",
   "metadata": {},
   "outputs": [],
   "source": [
    "number_of_throws = number_of_rows = 3333\n",
    "number_of_dice = number_of_columns = 2"
   ]
  },
  {
   "cell_type": "code",
   "execution_count": 6,
   "id": "62f4aa94",
   "metadata": {},
   "outputs": [],
   "source": [
    "throws = np.random.choice([1,2,3,4,5,6], number_of_rows * number_of_columns).reshape(number_of_rows, number_of_columns)"
   ]
  },
  {
   "cell_type": "code",
   "execution_count": 7,
   "id": "a65a8808",
   "metadata": {},
   "outputs": [
    {
     "data": {
      "text/plain": [
       "array([[3, 4],\n",
       "       [3, 3],\n",
       "       [6, 5],\n",
       "       ...,\n",
       "       [1, 2],\n",
       "       [2, 3],\n",
       "       [3, 5]])"
      ]
     },
     "execution_count": 7,
     "metadata": {},
     "output_type": "execute_result"
    }
   ],
   "source": [
    "throws"
   ]
  },
  {
   "cell_type": "code",
   "execution_count": 20,
   "id": "d2f9a46b",
   "metadata": {},
   "outputs": [],
   "source": [
    "outcomes = []\n",
    "for throw in throws:\n",
    "    if throw[0] == throw[1]:\n",
    "        outcomes.append(True)\n",
    "    else:\n",
    "        outcomes.append(False)"
   ]
  },
  {
   "cell_type": "code",
   "execution_count": 27,
   "id": "e63744da",
   "metadata": {},
   "outputs": [
    {
     "data": {
      "text/plain": [
       "0.1692169216921692"
      ]
     },
     "execution_count": 27,
     "metadata": {},
     "output_type": "execute_result"
    }
   ],
   "source": [
    "np.array(outcomes).mean()"
   ]
  },
  {
   "cell_type": "markdown",
   "id": "416fed4d",
   "metadata": {},
   "source": [
    "### 2. If you flip 8 coins, what is the probability of getting exactly 3 heads? What is the probability of getting more than 3 heads?"
   ]
  },
  {
   "cell_type": "code",
   "execution_count": 28,
   "id": "8551d2c3",
   "metadata": {},
   "outputs": [],
   "source": [
    "number_of_flips = number_of_rows = 3333\n",
    "number_of_coins = number_of_columns = 8"
   ]
  },
  {
   "cell_type": "code",
   "execution_count": 49,
   "id": "48fa95f3",
   "metadata": {},
   "outputs": [],
   "source": [
    "# Create an array of zeros(0) and ones(1) that represent either heads or tails for eight flips.\n",
    "outcomes = np.random.choice([0,1], number_of_rows * number_of_columns).reshape(number_of_rows, number_of_columns)"
   ]
  },
  {
   "cell_type": "code",
   "execution_count": 51,
   "id": "1c3c1e1b",
   "metadata": {},
   "outputs": [
    {
     "data": {
      "text/plain": [
       "array([[1, 1, 0, ..., 1, 0, 1],\n",
       "       [1, 1, 1, ..., 0, 0, 0],\n",
       "       [0, 0, 0, ..., 1, 1, 1],\n",
       "       ...,\n",
       "       [0, 0, 1, ..., 1, 0, 0],\n",
       "       [1, 1, 0, ..., 1, 0, 1],\n",
       "       [0, 0, 0, ..., 1, 1, 1]])"
      ]
     },
     "execution_count": 51,
     "metadata": {},
     "output_type": "execute_result"
    }
   ],
   "source": [
    "outcomes"
   ]
  },
  {
   "cell_type": "code",
   "execution_count": 57,
   "id": "951391fb",
   "metadata": {},
   "outputs": [],
   "source": [
    "# Create an array of total amount of heads thrown per trial.\n",
    "number_of_heads = outcomes.sum(axis=1)"
   ]
  },
  {
   "cell_type": "code",
   "execution_count": 60,
   "id": "231e9c8b",
   "metadata": {},
   "outputs": [],
   "source": [
    "# Find each trial where a total of three(3) heads were thrown.\n",
    "three_heads = number_of_heads == 3"
   ]
  },
  {
   "cell_type": "code",
   "execution_count": 61,
   "id": "9ccbf99d",
   "metadata": {},
   "outputs": [
    {
     "data": {
      "text/plain": [
       "array([False, False,  True, ..., False, False, False])"
      ]
     },
     "execution_count": 61,
     "metadata": {},
     "output_type": "execute_result"
    }
   ],
   "source": [
    "three_heads"
   ]
  },
  {
   "cell_type": "code",
   "execution_count": 63,
   "id": "f54c5c68",
   "metadata": {},
   "outputs": [
    {
     "data": {
      "text/plain": [
       "0.2076207620762076"
      ]
     },
     "execution_count": 63,
     "metadata": {},
     "output_type": "execute_result"
    }
   ],
   "source": [
    "# The probability that three(3) heads will be thrown.\n",
    "three_heads.mean()"
   ]
  },
  {
   "cell_type": "markdown",
   "id": "778bab60",
   "metadata": {},
   "source": [
    "### 3. There are approximitely 3 web development cohorts for every 1 data science cohort at Codeup. Assuming that Codeup randomly selects an alumni to put on a billboard, what are the odds that the two billboards I drive past both have data science students on them?"
   ]
  },
  {
   "cell_type": "code",
   "execution_count": 64,
   "id": "e6d1bdfd",
   "metadata": {},
   "outputs": [],
   "source": [
    "number_of_rows = number_of_picks = 3333\n",
    "number_of_bilboards = number_of_columns = 2\n",
    "\n",
    "probability_of_ds_student = .25\n",
    "probability_of_wd_student = .75"
   ]
  },
  {
   "cell_type": "code",
   "execution_count": 67,
   "id": "adf02661",
   "metadata": {},
   "outputs": [],
   "source": [
    "# Create a two-dimensional array that returns True if the student chosen is a data science student.\n",
    "billboard_choices = np.random.choice([True,False], number_of_columns*number_of_rows, p=[.25,.75]).reshape(number_of_rows,number_of_columns)"
   ]
  },
  {
   "cell_type": "code",
   "execution_count": 68,
   "id": "19124d80",
   "metadata": {},
   "outputs": [
    {
     "data": {
      "text/plain": [
       "array([[False, False],\n",
       "       [False, False],\n",
       "       [ True,  True],\n",
       "       ...,\n",
       "       [ True, False],\n",
       "       [False,  True],\n",
       "       [False, False]])"
      ]
     },
     "execution_count": 68,
     "metadata": {},
     "output_type": "execute_result"
    }
   ],
   "source": [
    "billboard_choices"
   ]
  },
  {
   "cell_type": "code",
   "execution_count": 76,
   "id": "00ef266d",
   "metadata": {},
   "outputs": [
    {
     "data": {
      "text/plain": [
       "array([0, 0, 2, ..., 1, 1, 0])"
      ]
     },
     "execution_count": 76,
     "metadata": {},
     "output_type": "execute_result"
    }
   ],
   "source": [
    "# Create an array that holds the sum of the values of each trial.\n",
    "billboard_choices.sum(axis=1)"
   ]
  },
  {
   "cell_type": "code",
   "execution_count": 71,
   "id": "894a560c",
   "metadata": {},
   "outputs": [
    {
     "data": {
      "text/plain": [
       "array([False, False,  True, ..., False, False, False])"
      ]
     },
     "execution_count": 71,
     "metadata": {},
     "output_type": "execute_result"
    }
   ],
   "source": [
    "# Create an array that returns True if both students chosen were data science students.\n",
    "billboard_choices.sum(axis=1) == 2"
   ]
  },
  {
   "cell_type": "code",
   "execution_count": 74,
   "id": "ca6add5e",
   "metadata": {},
   "outputs": [
    {
     "data": {
      "text/plain": [
       "0.06450645064506451"
      ]
     },
     "execution_count": 74,
     "metadata": {},
     "output_type": "execute_result"
    }
   ],
   "source": [
    "# Find the probability that both billboards will have a data science student.\n",
    "(billboard_choices.sum(axis=1) == 2).mean()"
   ]
  },
  {
   "cell_type": "code",
   "execution_count": null,
   "id": "bed10be4",
   "metadata": {},
   "outputs": [],
   "source": []
  }
 ],
 "metadata": {
  "kernelspec": {
   "display_name": "Python 3 (ipykernel)",
   "language": "python",
   "name": "python3"
  },
  "language_info": {
   "codemirror_mode": {
    "name": "ipython",
    "version": 3
   },
   "file_extension": ".py",
   "mimetype": "text/x-python",
   "name": "python",
   "nbconvert_exporter": "python",
   "pygments_lexer": "ipython3",
   "version": "3.8.8"
  }
 },
 "nbformat": 4,
 "nbformat_minor": 5
}
