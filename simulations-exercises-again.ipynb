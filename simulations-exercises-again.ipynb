{
 "cells": [
  {
   "cell_type": "code",
   "execution_count": 1,
   "id": "56237ee8",
   "metadata": {},
   "outputs": [],
   "source": [
    "import pandas as pd\n",
    "import numpy as np"
   ]
  },
  {
   "cell_type": "markdown",
   "id": "337be9ab",
   "metadata": {},
   "source": [
    "### 1. How likely is it that you roll doubles when rolling two dice?"
   ]
  },
  {
   "cell_type": "code",
   "execution_count": 2,
   "id": "d2600127",
   "metadata": {},
   "outputs": [],
   "source": [
    "number_of_throws = number_of_rows = 3333\n",
    "number_of_dice = number_of_columns = 2"
   ]
  },
  {
   "cell_type": "code",
   "execution_count": 6,
   "id": "ae45d340",
   "metadata": {},
   "outputs": [],
   "source": [
    "throws = np.random.choice([1,2,3,4,5,6], number_of_rows * number_of_columns).reshape(number_of_rows, number_of_columns)"
   ]
  },
  {
   "cell_type": "code",
   "execution_count": 7,
   "id": "755595fc",
   "metadata": {},
   "outputs": [
    {
     "data": {
      "text/plain": [
       "array([[3, 4],\n",
       "       [3, 3],\n",
       "       [6, 5],\n",
       "       ...,\n",
       "       [1, 2],\n",
       "       [2, 3],\n",
       "       [3, 5]])"
      ]
     },
     "execution_count": 7,
     "metadata": {},
     "output_type": "execute_result"
    }
   ],
   "source": [
    "throws"
   ]
  },
  {
   "cell_type": "code",
   "execution_count": 20,
   "id": "f1617b0e",
   "metadata": {},
   "outputs": [],
   "source": [
    "outcomes = []\n",
    "for throw in throws:\n",
    "    if throw[0] == throw[1]:\n",
    "        outcomes.append(True)\n",
    "    else:\n",
    "        outcomes.append(False)"
   ]
  },
  {
   "cell_type": "code",
   "execution_count": 27,
   "id": "59067700",
   "metadata": {},
   "outputs": [
    {
     "data": {
      "text/plain": [
       "0.1692169216921692"
      ]
     },
     "execution_count": 27,
     "metadata": {},
     "output_type": "execute_result"
    }
   ],
   "source": [
    "np.array(outcomes).mean()"
   ]
  },
  {
   "cell_type": "markdown",
   "id": "4db98108",
   "metadata": {},
   "source": [
    "### 2. If you flip 8 coins, what is the probability of getting exactly 3 heads? What is the probability of getting more than 3 heads?"
   ]
  },
  {
   "cell_type": "code",
   "execution_count": 28,
   "id": "7e699756",
   "metadata": {},
   "outputs": [],
   "source": [
    "number_of_flips = number_of_rows = 3333\n",
    "number_of_coins = number_of_columns = 8"
   ]
  },
  {
   "cell_type": "code",
   "execution_count": 49,
   "id": "8fecaa99",
   "metadata": {},
   "outputs": [],
   "source": [
    "# Create an array of zeros(0) and ones(1) that represent either heads or tails for eight flips.\n",
    "outcomes = np.random.choice([0,1], number_of_rows * number_of_columns).reshape(number_of_rows, number_of_columns)"
   ]
  },
  {
   "cell_type": "code",
   "execution_count": 51,
   "id": "1a1a6a01",
   "metadata": {},
   "outputs": [
    {
     "data": {
      "text/plain": [
       "array([[1, 1, 0, ..., 1, 0, 1],\n",
       "       [1, 1, 1, ..., 0, 0, 0],\n",
       "       [0, 0, 0, ..., 1, 1, 1],\n",
       "       ...,\n",
       "       [0, 0, 1, ..., 1, 0, 0],\n",
       "       [1, 1, 0, ..., 1, 0, 1],\n",
       "       [0, 0, 0, ..., 1, 1, 1]])"
      ]
     },
     "execution_count": 51,
     "metadata": {},
     "output_type": "execute_result"
    }
   ],
   "source": [
    "outcomes"
   ]
  },
  {
   "cell_type": "code",
   "execution_count": 57,
   "id": "25d0fd25",
   "metadata": {},
   "outputs": [],
   "source": [
    "# Create an array of total amount of heads thrown per trial.\n",
    "number_of_heads = outcomes.sum(axis=1)"
   ]
  },
  {
   "cell_type": "code",
   "execution_count": 60,
   "id": "70535566",
   "metadata": {},
   "outputs": [],
   "source": [
    "# Find each trial where a total of three(3) heads were thrown.\n",
    "three_heads = number_of_heads == 3"
   ]
  },
  {
   "cell_type": "code",
   "execution_count": 61,
   "id": "e9f9128f",
   "metadata": {},
   "outputs": [
    {
     "data": {
      "text/plain": [
       "array([False, False,  True, ..., False, False, False])"
      ]
     },
     "execution_count": 61,
     "metadata": {},
     "output_type": "execute_result"
    }
   ],
   "source": [
    "three_heads"
   ]
  },
  {
   "cell_type": "code",
   "execution_count": 63,
   "id": "682298d1",
   "metadata": {},
   "outputs": [
    {
     "data": {
      "text/plain": [
       "0.2076207620762076"
      ]
     },
     "execution_count": 63,
     "metadata": {},
     "output_type": "execute_result"
    }
   ],
   "source": [
    "# The probability that three(3) heads will be thrown.\n",
    "three_heads.mean()"
   ]
  },
  {
   "cell_type": "markdown",
   "id": "97b07657",
   "metadata": {},
   "source": [
    "### 3. There are approximitely 3 web development cohorts for every 1 data science cohort at Codeup. Assuming that Codeup randomly selects an alumni to put on a billboard, what are the odds that the two billboards I drive past both have data science students on them?"
   ]
  },
  {
   "cell_type": "code",
   "execution_count": 64,
   "id": "dfce9f5d",
   "metadata": {},
   "outputs": [],
   "source": [
    "number_of_rows = number_of_picks = 3333\n",
    "number_of_bilboards = number_of_columns = 2\n",
    "\n",
    "probability_of_ds_student = .25\n",
    "probability_of_wd_student = .75"
   ]
  },
  {
   "cell_type": "code",
   "execution_count": 67,
   "id": "7ae37624",
   "metadata": {},
   "outputs": [],
   "source": [
    "# Create a two-dimensional array that returns True if the student chosen is a data science student.\n",
    "billboard_choices = np.random.choice([True,False], number_of_columns*number_of_rows, p=[.25,.75]).reshape(number_of_rows,number_of_columns)"
   ]
  },
  {
   "cell_type": "code",
   "execution_count": 68,
   "id": "310c87fa",
   "metadata": {},
   "outputs": [
    {
     "data": {
      "text/plain": [
       "array([[False, False],\n",
       "       [False, False],\n",
       "       [ True,  True],\n",
       "       ...,\n",
       "       [ True, False],\n",
       "       [False,  True],\n",
       "       [False, False]])"
      ]
     },
     "execution_count": 68,
     "metadata": {},
     "output_type": "execute_result"
    }
   ],
   "source": [
    "billboard_choices"
   ]
  },
  {
   "cell_type": "code",
   "execution_count": 76,
   "id": "eb64bc4f",
   "metadata": {},
   "outputs": [
    {
     "data": {
      "text/plain": [
       "array([0, 0, 2, ..., 1, 1, 0])"
      ]
     },
     "execution_count": 76,
     "metadata": {},
     "output_type": "execute_result"
    }
   ],
   "source": [
    "# Create an array that holds the sum of the values of each trial.\n",
    "billboard_choices.sum(axis=1)"
   ]
  },
  {
   "cell_type": "code",
   "execution_count": 71,
   "id": "0859f35b",
   "metadata": {},
   "outputs": [
    {
     "data": {
      "text/plain": [
       "array([False, False,  True, ..., False, False, False])"
      ]
     },
     "execution_count": 71,
     "metadata": {},
     "output_type": "execute_result"
    }
   ],
   "source": [
    "# Create an array that returns True if both students chosen were data science students.\n",
    "billboard_choices.sum(axis=1) == 2"
   ]
  },
  {
   "cell_type": "code",
   "execution_count": 74,
   "id": "e05d1eff",
   "metadata": {},
   "outputs": [
    {
     "data": {
      "text/plain": [
       "0.06450645064506451"
      ]
     },
     "execution_count": 74,
     "metadata": {},
     "output_type": "execute_result"
    }
   ],
   "source": [
    "# Find the probability that both billboards will have a data science student.\n",
    "(billboard_choices.sum(axis=1) == 2).mean()"
   ]
  },
  {
   "cell_type": "markdown",
   "id": "49fec671",
   "metadata": {},
   "source": [
    "### 4. Codeup students buy, on average, 3 poptart packages with a standard deviation of 1.5 a day from the snack vending machine. If on monday the machine is restocked with 17 poptart packages, how likely is it that I will be able to buy some poptarts on Friday afternoon? (Remember, if you have mean and standard deviation, use the np.random.normal)"
   ]
  },
  {
   "cell_type": "code",
   "execution_count": 99,
   "id": "766ee547",
   "metadata": {},
   "outputs": [],
   "source": [
    "number_of_rows = 3333\n",
    "number_of_columns = 5\n",
    "\n",
    "mu = 3\n",
    "sigma = 1.5\n",
    "\n",
    "bye_bye_poptarts = np.random.normal(mu, sigma, number_of_rows*number_of_columns).astype(int).reshape(number_of_rows, number_of_columns)"
   ]
  },
  {
   "cell_type": "code",
   "execution_count": 100,
   "id": "071afe3a",
   "metadata": {},
   "outputs": [
    {
     "data": {
      "text/plain": [
       "array([[1, 2, 1, 3, 4],\n",
       "       [2, 0, 2, 0, 5],\n",
       "       [2, 2, 6, 1, 3],\n",
       "       ...,\n",
       "       [3, 0, 1, 4, 1],\n",
       "       [4, 5, 0, 4, 0],\n",
       "       [3, 2, 1, 2, 1]])"
      ]
     },
     "execution_count": 100,
     "metadata": {},
     "output_type": "execute_result"
    }
   ],
   "source": [
    "bye_bye_poptarts"
   ]
  },
  {
   "cell_type": "code",
   "execution_count": 101,
   "id": "a067e9f8",
   "metadata": {},
   "outputs": [
    {
     "data": {
      "text/plain": [
       "0.885988598859886"
      ]
     },
     "execution_count": 101,
     "metadata": {},
     "output_type": "execute_result"
    }
   ],
   "source": [
    "(bye_bye_poptarts.sum(axis=1) < 17).mean()"
   ]
  },
  {
   "cell_type": "markdown",
   "id": "6d0377cc",
   "metadata": {},
   "source": [
    "### 5. Compare Heights\n",
    "* Men have an average height of 178 cm and standard deviation of 8cm.\n",
    "* Women have a mean of 170, sd = 6cm.\n",
    "* Since you have means and standard deviations, you can use np.random.normal to generate observations.\n",
    "* If a man and woman are chosen at random, P(woman taller than man)?"
   ]
  },
  {
   "cell_type": "code",
   "execution_count": 111,
   "id": "15ef61e2",
   "metadata": {},
   "outputs": [],
   "source": [
    "men_mu = 178\n",
    "men_sigma = 8\n",
    "women_mu = 170\n",
    "women_sigma = 6\n",
    "\n",
    "number_of_rows = 3333\n",
    "number_of_columns = 1\n",
    "\n",
    "men_array = np.random.normal(men_mu, men_sigma, number_of_rows * number_of_columns)\n",
    "women_array = np.random.normal(women_mu, women_sigma, number_of_rows * number_of_columns)"
   ]
  },
  {
   "cell_type": "code",
   "execution_count": 114,
   "id": "9fa4e0c9",
   "metadata": {},
   "outputs": [
    {
     "data": {
      "text/plain": [
       "array([183.71682673, 179.13710488, 185.42302214, ..., 193.66845493,\n",
       "       174.54391424, 181.60631026])"
      ]
     },
     "execution_count": 114,
     "metadata": {},
     "output_type": "execute_result"
    }
   ],
   "source": [
    "men_array"
   ]
  },
  {
   "cell_type": "code",
   "execution_count": 113,
   "id": "b2261c3e",
   "metadata": {},
   "outputs": [
    {
     "data": {
      "text/plain": [
       "array([173.70917796, 161.62730951, 161.10783264, ..., 171.19805262,\n",
       "       167.14186981, 171.52796502])"
      ]
     },
     "execution_count": 113,
     "metadata": {},
     "output_type": "execute_result"
    }
   ],
   "source": [
    "women_array"
   ]
  },
  {
   "cell_type": "code",
   "execution_count": 116,
   "id": "26ee91de",
   "metadata": {},
   "outputs": [],
   "source": [
    "df = {'men': men_array, 'women': women_array}"
   ]
  },
  {
   "cell_type": "code",
   "execution_count": 117,
   "id": "9c9348c1",
   "metadata": {},
   "outputs": [
    {
     "data": {
      "text/plain": [
       "{'men': array([183.71682673, 179.13710488, 185.42302214, ..., 193.66845493,\n",
       "        174.54391424, 181.60631026]),\n",
       " 'women': array([173.70917796, 161.62730951, 161.10783264, ..., 171.19805262,\n",
       "        167.14186981, 171.52796502])}"
      ]
     },
     "execution_count": 117,
     "metadata": {},
     "output_type": "execute_result"
    }
   ],
   "source": [
    "df"
   ]
  },
  {
   "cell_type": "code",
   "execution_count": 118,
   "id": "64d88aee",
   "metadata": {},
   "outputs": [],
   "source": [
    "df = pd.DataFrame(df)"
   ]
  },
  {
   "cell_type": "code",
   "execution_count": 120,
   "id": "ed515d75",
   "metadata": {},
   "outputs": [],
   "source": [
    "df['taller_woman'] = df.women > df.men"
   ]
  },
  {
   "cell_type": "code",
   "execution_count": 122,
   "id": "5abc5722",
   "metadata": {},
   "outputs": [
    {
     "data": {
      "text/html": [
       "<div>\n",
       "<style scoped>\n",
       "    .dataframe tbody tr th:only-of-type {\n",
       "        vertical-align: middle;\n",
       "    }\n",
       "\n",
       "    .dataframe tbody tr th {\n",
       "        vertical-align: top;\n",
       "    }\n",
       "\n",
       "    .dataframe thead th {\n",
       "        text-align: right;\n",
       "    }\n",
       "</style>\n",
       "<table border=\"1\" class=\"dataframe\">\n",
       "  <thead>\n",
       "    <tr style=\"text-align: right;\">\n",
       "      <th></th>\n",
       "      <th>men</th>\n",
       "      <th>women</th>\n",
       "      <th>taller_woman</th>\n",
       "    </tr>\n",
       "  </thead>\n",
       "  <tbody>\n",
       "    <tr>\n",
       "      <th>0</th>\n",
       "      <td>183.716827</td>\n",
       "      <td>173.709178</td>\n",
       "      <td>False</td>\n",
       "    </tr>\n",
       "    <tr>\n",
       "      <th>1</th>\n",
       "      <td>179.137105</td>\n",
       "      <td>161.627310</td>\n",
       "      <td>False</td>\n",
       "    </tr>\n",
       "    <tr>\n",
       "      <th>2</th>\n",
       "      <td>185.423022</td>\n",
       "      <td>161.107833</td>\n",
       "      <td>False</td>\n",
       "    </tr>\n",
       "    <tr>\n",
       "      <th>3</th>\n",
       "      <td>163.379700</td>\n",
       "      <td>173.579963</td>\n",
       "      <td>True</td>\n",
       "    </tr>\n",
       "    <tr>\n",
       "      <th>4</th>\n",
       "      <td>170.989498</td>\n",
       "      <td>169.003412</td>\n",
       "      <td>False</td>\n",
       "    </tr>\n",
       "    <tr>\n",
       "      <th>...</th>\n",
       "      <td>...</td>\n",
       "      <td>...</td>\n",
       "      <td>...</td>\n",
       "    </tr>\n",
       "    <tr>\n",
       "      <th>3328</th>\n",
       "      <td>182.139952</td>\n",
       "      <td>179.111269</td>\n",
       "      <td>False</td>\n",
       "    </tr>\n",
       "    <tr>\n",
       "      <th>3329</th>\n",
       "      <td>179.726719</td>\n",
       "      <td>168.108867</td>\n",
       "      <td>False</td>\n",
       "    </tr>\n",
       "    <tr>\n",
       "      <th>3330</th>\n",
       "      <td>193.668455</td>\n",
       "      <td>171.198053</td>\n",
       "      <td>False</td>\n",
       "    </tr>\n",
       "    <tr>\n",
       "      <th>3331</th>\n",
       "      <td>174.543914</td>\n",
       "      <td>167.141870</td>\n",
       "      <td>False</td>\n",
       "    </tr>\n",
       "    <tr>\n",
       "      <th>3332</th>\n",
       "      <td>181.606310</td>\n",
       "      <td>171.527965</td>\n",
       "      <td>False</td>\n",
       "    </tr>\n",
       "  </tbody>\n",
       "</table>\n",
       "<p>3333 rows × 3 columns</p>\n",
       "</div>"
      ],
      "text/plain": [
       "             men       women  taller_woman\n",
       "0     183.716827  173.709178         False\n",
       "1     179.137105  161.627310         False\n",
       "2     185.423022  161.107833         False\n",
       "3     163.379700  173.579963          True\n",
       "4     170.989498  169.003412         False\n",
       "...          ...         ...           ...\n",
       "3328  182.139952  179.111269         False\n",
       "3329  179.726719  168.108867         False\n",
       "3330  193.668455  171.198053         False\n",
       "3331  174.543914  167.141870         False\n",
       "3332  181.606310  171.527965         False\n",
       "\n",
       "[3333 rows x 3 columns]"
      ]
     },
     "execution_count": 122,
     "metadata": {},
     "output_type": "execute_result"
    }
   ],
   "source": [
    "df"
   ]
  },
  {
   "cell_type": "code",
   "execution_count": 123,
   "id": "ac2f0521",
   "metadata": {},
   "outputs": [
    {
     "data": {
      "text/plain": [
       "0.20522052205220523"
      ]
     },
     "execution_count": 123,
     "metadata": {},
     "output_type": "execute_result"
    }
   ],
   "source": [
    "df.taller_woman.mean()"
   ]
  },
  {
   "cell_type": "markdown",
   "id": "ca7c8665",
   "metadata": {},
   "source": [
    "### 6. When installing anaconda on a student's computer, there's a 1 in 250 chance that the download is corrupted and the installation fails. What are the odds that after having 50 students download anaconda, no one has an installation issue?"
   ]
  },
  {
   "cell_type": "code",
   "execution_count": 126,
   "id": "35a96099",
   "metadata": {},
   "outputs": [],
   "source": [
    "probability_of_failure = 0.004\n",
    "\n",
    "number_of_rows = 3333\n",
    "number_of_columns = number_of_students = 50\n",
    "\n",
    "download_outcomes = np.random.choice([True,False], number_of_columns*number_of_rows, p=[0.004,0.996]).reshape(number_of_rows,number_of_students)"
   ]
  },
  {
   "cell_type": "code",
   "execution_count": 135,
   "id": "38abcb83",
   "metadata": {},
   "outputs": [
    {
     "data": {
      "text/plain": [
       "0.8172817281728173"
      ]
     },
     "execution_count": 135,
     "metadata": {},
     "output_type": "execute_result"
    }
   ],
   "source": [
    "(download_outcomes.sum(axis=1) == 0).mean()"
   ]
  },
  {
   "cell_type": "markdown",
   "id": "c846c8b0",
   "metadata": {},
   "source": [
    "### What are the odds that after having 100 students download anaconda, no one has an installation issue?"
   ]
  },
  {
   "cell_type": "code",
   "execution_count": 136,
   "id": "ea480b4b",
   "metadata": {},
   "outputs": [],
   "source": [
    "probability_of_failure = 0.004\n",
    "\n",
    "number_of_rows = 3333\n",
    "number_of_columns = number_of_students = 100\n",
    "\n",
    "download_outcomes = np.random.choice([True,False], number_of_columns*number_of_rows, p=[0.004,0.996]).reshape(number_of_rows,number_of_students)"
   ]
  },
  {
   "cell_type": "code",
   "execution_count": 137,
   "id": "e618bb80",
   "metadata": {},
   "outputs": [
    {
     "data": {
      "text/plain": [
       "0.6618661866186618"
      ]
     },
     "execution_count": 137,
     "metadata": {},
     "output_type": "execute_result"
    }
   ],
   "source": [
    "(download_outcomes.sum(axis=1) == 0).mean()"
   ]
  },
  {
   "cell_type": "markdown",
   "id": "074a8483",
   "metadata": {},
   "source": [
    "### What is the probability that we observe an installation issue within the first 150 students that download anaconda?"
   ]
  },
  {
   "cell_type": "code",
   "execution_count": 138,
   "id": "d992e9e3",
   "metadata": {},
   "outputs": [],
   "source": [
    "probability_of_failure = 0.004\n",
    "\n",
    "number_of_rows = 3333\n",
    "number_of_columns = number_of_students = 150\n",
    "\n",
    "download_outcomes = np.random.choice([True,False], number_of_columns*number_of_rows, p=[0.004,0.996]).reshape(number_of_rows,number_of_students)"
   ]
  },
  {
   "cell_type": "code",
   "execution_count": 139,
   "id": "f57e6688",
   "metadata": {},
   "outputs": [
    {
     "data": {
      "text/plain": [
       "0.5538553855385538"
      ]
     },
     "execution_count": 139,
     "metadata": {},
     "output_type": "execute_result"
    }
   ],
   "source": [
    "(download_outcomes.sum(axis=1) == 0).mean()"
   ]
  },
  {
   "cell_type": "markdown",
   "id": "5cc1765f",
   "metadata": {},
   "source": [
    "### How likely is it that 450 students all download anaconda without an issue?"
   ]
  },
  {
   "cell_type": "code",
   "execution_count": 140,
   "id": "60db200c",
   "metadata": {},
   "outputs": [],
   "source": [
    "probability_of_failure = 0.004\n",
    "\n",
    "number_of_rows = 3333\n",
    "number_of_columns = number_of_students = 450\n",
    "\n",
    "download_outcomes = np.random.choice([True,False], number_of_columns*number_of_rows, p=[0.004,0.996]).reshape(number_of_rows,number_of_students)"
   ]
  },
  {
   "cell_type": "code",
   "execution_count": 141,
   "id": "b267fd0d",
   "metadata": {},
   "outputs": [
    {
     "data": {
      "text/plain": [
       "0.17311731173117312"
      ]
     },
     "execution_count": 141,
     "metadata": {},
     "output_type": "execute_result"
    }
   ],
   "source": [
    "(download_outcomes.sum(axis=1) == 0).mean()"
   ]
  },
  {
   "cell_type": "markdown",
   "id": "a6440dde",
   "metadata": {},
   "source": [
    "### 7. There's a 70% chance on any given day that there will be at least one food truck at Travis Park. However, you haven't seen a food truck there in 3 days. How unlikely is this?"
   ]
  },
  {
   "cell_type": "code",
   "execution_count": 144,
   "id": "ae4f8d8e",
   "metadata": {},
   "outputs": [],
   "source": [
    "food_truck_probability = 0.70\n",
    "\n",
    "number_of_rows = 3333\n",
    "number_of_columns = 3\n",
    "\n",
    "food_truck_outcomes = np.random.choice([True,False], number_of_rows*number_of_columns, p=[0.70, 0.30]).reshape(number_of_rows,number_of_columns)"
   ]
  },
  {
   "cell_type": "code",
   "execution_count": 145,
   "id": "4e4682ed",
   "metadata": {},
   "outputs": [
    {
     "data": {
      "text/plain": [
       "array([[ True,  True,  True],\n",
       "       [ True,  True,  True],\n",
       "       [ True,  True,  True],\n",
       "       ...,\n",
       "       [ True,  True, False],\n",
       "       [ True,  True,  True],\n",
       "       [False,  True,  True]])"
      ]
     },
     "execution_count": 145,
     "metadata": {},
     "output_type": "execute_result"
    }
   ],
   "source": [
    "food_truck_outcomes"
   ]
  },
  {
   "cell_type": "code",
   "execution_count": 147,
   "id": "aa5fda48",
   "metadata": {},
   "outputs": [
    {
     "data": {
      "text/plain": [
       "array([3, 3, 3, ..., 2, 3, 2])"
      ]
     },
     "execution_count": 147,
     "metadata": {},
     "output_type": "execute_result"
    }
   ],
   "source": [
    "food_truck_outcomes.sum(axis=1)"
   ]
  },
  {
   "cell_type": "code",
   "execution_count": 151,
   "id": "881790a0",
   "metadata": {},
   "outputs": [
    {
     "data": {
      "text/plain": [
       "0.030903090309030903"
      ]
     },
     "execution_count": 151,
     "metadata": {},
     "output_type": "execute_result"
    }
   ],
   "source": [
    "(food_truck_outcomes.sum(axis=1) == 0).mean()"
   ]
  },
  {
   "cell_type": "markdown",
   "id": "cef6e3d0",
   "metadata": {},
   "source": [
    "### How likely is it that a food truck will show up sometime this week?"
   ]
  },
  {
   "cell_type": "code",
   "execution_count": 155,
   "id": "116a758f",
   "metadata": {},
   "outputs": [],
   "source": [
    "def food_truck(days):\n",
    "    number_of_rows = 3333\n",
    "    number_of_columns = days\n",
    "    \n",
    "    food_truck_outcomes = np.random.choice([True,False], number_of_rows*number_of_columns, p=[0.70, 0.30]).reshape(number_of_rows,number_of_columns)\n",
    "    probability = (food_truck_outcomes.sum(axis=1) == 0).mean()\n",
    "    \n",
    "    print(f'The probability of not seeing a food truck in {days} consecutive days is: {round(probability*100)}%')"
   ]
  },
  {
   "cell_type": "code",
   "execution_count": 157,
   "id": "35ce24d3",
   "metadata": {},
   "outputs": [
    {
     "name": "stdout",
     "output_type": "stream",
     "text": [
      "The probability of not seeing a food truck in 2 consecutive days is: 10%\n"
     ]
    }
   ],
   "source": [
    "food_truck(2)"
   ]
  },
  {
   "cell_type": "code",
   "execution_count": 158,
   "id": "10e2cc17",
   "metadata": {},
   "outputs": [
    {
     "name": "stdout",
     "output_type": "stream",
     "text": [
      "The probability of not seeing a food truck in 1 consecutive days is: 30%\n",
      "\n",
      "The probability of not seeing a food truck in 2 consecutive days is: 10%\n",
      "\n",
      "The probability of not seeing a food truck in 3 consecutive days is: 3%\n",
      "\n",
      "The probability of not seeing a food truck in 4 consecutive days is: 1%\n",
      "\n",
      "The probability of not seeing a food truck in 5 consecutive days is: 0%\n",
      "\n",
      "The probability of not seeing a food truck in 6 consecutive days is: 0%\n",
      "\n",
      "The probability of not seeing a food truck in 7 consecutive days is: 0%\n",
      "\n"
     ]
    }
   ],
   "source": [
    "for r in range(1,8):\n",
    "    food_truck(r)\n",
    "    print()"
   ]
  },
  {
   "cell_type": "markdown",
   "id": "6f1bddd4",
   "metadata": {},
   "source": [
    "### If 23 people are in the same room, what are the odds that two of them share a birthday? "
   ]
  },
  {
   "cell_type": "code",
   "execution_count": 170,
   "id": "f5c9cd38",
   "metadata": {},
   "outputs": [],
   "source": [
    "def shared_birthdays(students):\n",
    "    number_of_rows = 3333\n",
    "    number_of_columns = students\n",
    "    \n",
    "    sightings = np.random.choice([r for r in range(366)], number_of_rows * number_of_columns).reshape(number_of_rows, number_of_columns)\n",
    "    df = pd.DataFrame(sightings)\n",
    "    df['duplicate_birthday'] = df.nunique(axis=1) < number_of_columns\n",
    "    matching_birthdays = df.duplicate_birthday.mean()\n",
    "    print(f'The probability that at least two people share the same birthday in a room of {students} students is: {matching_birthdays}')"
   ]
  },
  {
   "cell_type": "code",
   "execution_count": 176,
   "id": "fe78fb7a",
   "metadata": {},
   "outputs": [
    {
     "name": "stdout",
     "output_type": "stream",
     "text": [
      "The probability that at least two people share the same birthday in a room of 23 students is: 0.5028502850285028\n"
     ]
    }
   ],
   "source": [
    "shared_birthdays(23)"
   ]
  },
  {
   "cell_type": "markdown",
   "id": "2143f40d",
   "metadata": {},
   "source": [
    "### What if it's 20 people?"
   ]
  },
  {
   "cell_type": "code",
   "execution_count": 177,
   "id": "f5014a40",
   "metadata": {},
   "outputs": [
    {
     "name": "stdout",
     "output_type": "stream",
     "text": [
      "The probability that at least two people share the same birthday in a room of 20 students is: 0.4146414641464146\n"
     ]
    }
   ],
   "source": [
    "shared_birthdays(20)"
   ]
  },
  {
   "cell_type": "markdown",
   "id": "f70e3e2f",
   "metadata": {},
   "source": [
    "### 40?"
   ]
  },
  {
   "cell_type": "code",
   "execution_count": null,
   "id": "ba5c84ff",
   "metadata": {},
   "outputs": [],
   "source": []
  }
 ],
 "metadata": {
  "kernelspec": {
   "display_name": "Python 3 (ipykernel)",
   "language": "python",
   "name": "python3"
  },
  "language_info": {
   "codemirror_mode": {
    "name": "ipython",
    "version": 3
   },
   "file_extension": ".py",
   "mimetype": "text/x-python",
   "name": "python",
   "nbconvert_exporter": "python",
   "pygments_lexer": "ipython3",
   "version": "3.8.8"
  }
 },
 "nbformat": 4,
 "nbformat_minor": 5
}
