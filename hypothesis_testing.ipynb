{
 "cells": [
  {
   "cell_type": "markdown",
   "id": "be69792b",
   "metadata": {},
   "source": [
    "For each of the following questions, formulate a null and alternative hypothesis (be as specific as you can be), then give an example of what a true positive, true negative, type I and type II errors would look like. Note that some of the questions are intentionally phrased in a vague way. It is your job to reword these as more precise questions that could be tested.\n",
    "\n",
    "* Has the network latency gone up since we switched internet service providers?\n",
    "* Is the website redesign any good?\n",
    "* Is our television ad driving more sales?"
   ]
  },
  {
   "cell_type": "markdown",
   "id": "2c075625",
   "metadata": {},
   "source": [
    "1. Has the network latency gone up since we switched internet service providers?\n",
    "Null Hypothesis: Switching internet service providers made no difference in network latency. \n",
    "Alternative Hypothesis: Switching internet service providers caused the network latency to increase.\n",
    "True Positive: Network latency increased after switching internet service providers.\n",
    "True Negative: Network latency stayed the same after switching internet service providers.\n",
    "Type 1 Error: Your test shows a change in network latency where there is none.\n",
    "Type 2 Error: Your test didn't show a change in network latency where there is change.\n",
    "\n",
    "2. Did the website redesign lead to more visits?\n",
    "Null Hypothesis: The website redesign made no difference in page visitors.\n",
    "Alternative Hypothesis: The website redesign leads to more page visitors.\n",
    "True Postive: The website redesign lead to a 40% increase in page visitors.\n",
    "True Negative: The old website is just as effective as the redesign.\n",
    "Type 1 Error: Your test showed an increase in page visits where there was no change.\n",
    "Type 2 Error: Your test showed no increase in page visits where there was a change.\n",
    "\n",
    "3. Did the television ad cause an increase in sales?\n",
    "Null Hypothesis: The television ad did not have an effect on sales.\n",
    "Alternative Hypothesis: The television ad caused an increase in sales.\n",
    "True Postive: The television ad caused an increase of sales by 20%.\n",
    "True Negative: Your test showed the television ad had no effect on sales.\n",
    "Type 1 Error: Your test showed a change in sales where there was none.\n",
    "Type 2 Error: Your test didn't show a change in sales where there was a change."
   ]
  },
  {
   "cell_type": "code",
   "execution_count": null,
   "id": "3e0be1c9",
   "metadata": {},
   "outputs": [],
   "source": []
  }
 ],
 "metadata": {
  "kernelspec": {
   "display_name": "Python 3 (ipykernel)",
   "language": "python",
   "name": "python3"
  },
  "language_info": {
   "codemirror_mode": {
    "name": "ipython",
    "version": 3
   },
   "file_extension": ".py",
   "mimetype": "text/x-python",
   "name": "python",
   "nbconvert_exporter": "python",
   "pygments_lexer": "ipython3",
   "version": "3.8.8"
  }
 },
 "nbformat": 4,
 "nbformat_minor": 5
}
