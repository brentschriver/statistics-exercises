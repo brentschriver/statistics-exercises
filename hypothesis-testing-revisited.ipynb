{
 "cells": [
  {
   "cell_type": "code",
   "execution_count": 1,
   "id": "5652fff3",
   "metadata": {},
   "outputs": [],
   "source": [
    "import matplotlib.pyplot as plt\n",
    "import numpy as np\n",
    "import pandas as pd\n",
    "import scipy.stats as stats\n",
    "import seaborn as sns\n",
    "import env"
   ]
  },
  {
   "cell_type": "markdown",
   "id": "168d4b1d",
   "metadata": {},
   "source": [
    "### 1. Ace Realty wants to determine whether the average time it takes to sell homes is different for its two offices. A sample of 40 sales from office #1 revealed a mean of 90 days and a standard deviation of 15 days. A sample of 50 sales from office #2 revealed a mean of 100 days and a standard deviation of 20 days. Use a .05 level of significance."
   ]
  },
  {
   "cell_type": "code",
   "execution_count": 25,
   "id": "8b1615cd",
   "metadata": {},
   "outputs": [],
   "source": [
    "x = np.arange(50,150)\n",
    "\n",
    "office_1 = stats.norm(90, 15).pdf(x)\n",
    "office_2 = stats.norm(100, 20).pdf(x)"
   ]
  },
  {
   "cell_type": "markdown",
   "id": "d88fd77a",
   "metadata": {},
   "source": [
    "### We will use an independent T-Test here since we are comparing the means of two different groups."
   ]
  },
  {
   "cell_type": "markdown",
   "id": "6e56250e",
   "metadata": {},
   "source": [
    "### Problem sovling method:\n",
    "1. Plot distributions.\n",
    "2. Establish hypothesis."
   ]
  },
  {
   "cell_type": "code",
   "execution_count": 26,
   "id": "6b9c70a8",
   "metadata": {},
   "outputs": [
    {
     "data": {
      "text/plain": [
       "[<matplotlib.lines.Line2D at 0x7fdb5c86a250>]"
      ]
     },
     "execution_count": 26,
     "metadata": {},
     "output_type": "execute_result"
    },
    {
     "data": {
      "image/png": "[encoded data removed]",
      "text/plain": [
       "<Figure size 432x288 with 1 Axes>"
      ]
     },
     "metadata": {
      "needs_background": "light"
     },
     "output_type": "display_data"
    }
   ],
   "source": [
    "plt.plot(x, office_1, label= 'Office 1')\n",
    "plt.plot(x, office_2, label= 'Office 2')"
   ]
  },
  {
   "cell_type": "markdown",
   "id": "26e7c80e",
   "metadata": {},
   "source": [
    "$H_0$ = The average time to sell homes:  $t_A$ == $t_B$\n",
    "\n",
    "$H_a$ = The average time to sell homes:  $t_A$ !=  $t_B$"
   ]
  },
  {
   "cell_type": "markdown",
   "id": "0ba6f175",
   "metadata": {},
   "source": [
    "#### 3. Set significance level."
   ]
  },
  {
   "cell_type": "code",
   "execution_count": 16,
   "id": "62c52ec3",
   "metadata": {},
   "outputs": [],
   "source": [
    "α = 0.05"
   ]
  },
  {
   "cell_type": "markdown",
   "id": "456ad65d",
   "metadata": {},
   "source": [
    "#### 4. Verify Assumptions:\n",
    "\n",
    "* Normal Distribution, or at least 30 observations and \"kinda\" normal. The more observations you have, the less \"normal\" it needs to appear. (CLT)\n",
    "* Independent samples\n",
    "* Equal Variances (or set method argument to False when not"
   ]
  },
  {
   "cell_type": "markdown",
   "id": "bf8109f4",
   "metadata": {},
   "source": [
    "Based on the distributions, I'm gong to assume the variances are close enough."
   ]
  },
  {
   "cell_type": "markdown",
   "id": "325c9b0e",
   "metadata": {},
   "source": [
    "#### 5. Compute test statistic and probability (t-statistic & p-value) using scipy.stats.ttest_1samp"
   ]
  },
  {
   "cell_type": "code",
   "execution_count": 34,
   "id": "d33c637b",
   "metadata": {},
   "outputs": [],
   "source": [
    "t, p = stats.ttest_ind_from_stats(90,15,40,100,20,50, equal_var= False)"
   ]
  },
  {
   "cell_type": "code",
   "execution_count": 35,
   "id": "10fbcd6b",
   "metadata": {},
   "outputs": [
    {
     "data": {
      "text/plain": [
       "(-2.7091418459143854, 0.00811206270346016)"
      ]
     },
     "execution_count": 35,
     "metadata": {},
     "output_type": "execute_result"
    }
   ],
   "source": [
    "t, p"
   ]
  },
  {
   "cell_type": "code",
   "execution_count": 37,
   "id": "ef0c20cb",
   "metadata": {},
   "outputs": [
    {
     "name": "stdout",
     "output_type": "stream",
     "text": [
      "\n",
      "Because the p-value (0.00811206270346016) is less than alpha value (0.05),we reject the null hypothesis.\n"
     ]
    }
   ],
   "source": [
    "print(f'''\n",
    "Because the p-value ({p}) is less than alpha value ({α}),we reject the null hypothesis.''')"
   ]
  },
  {
   "cell_type": "code",
   "execution_count": null,
   "id": "035e065f",
   "metadata": {},
   "outputs": [],
   "source": []
  }
 ],
 "metadata": {
  "kernelspec": {
   "display_name": "Python 3 (ipykernel)",
   "language": "python",
   "name": "python3"
  },
  "language_info": {
   "codemirror_mode": {
    "name": "ipython",
    "version": 3
   },
   "file_extension": ".py",
   "mimetype": "text/x-python",
   "name": "python",
   "nbconvert_exporter": "python",
   "pygments_lexer": "ipython3",
   "version": "3.8.8"
  }
 },
 "nbformat": 4,
 "nbformat_minor": 5
}
